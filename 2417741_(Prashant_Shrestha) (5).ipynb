{
  "nbformat": 4,
  "nbformat_minor": 0,
  "metadata": {
    "colab": {
      "provenance": [],
      "collapsed_sections": [
        "vcZrc3PMhIMf"
      ]
    },
    "kernelspec": {
      "name": "python3",
      "display_name": "Python 3"
    },
    "language_info": {
      "name": "python"
    }
  },
  "cells": [
    {
      "cell_type": "markdown",
      "source": [
        "# Imports and Data loading"
      ],
      "metadata": {
        "id": "1hElIGH9ukxl"
      }
    },
    {
      "cell_type": "code",
      "execution_count": 53,
      "metadata": {
        "id": "ON7JfDuXmgBe"
      },
      "outputs": [],
      "source": [
        "import pandas as pd\n",
        "import matplotlib.pyplot as plt\n",
        "import seaborn as sns\n",
        "import numpy as np\n",
        "from sklearn.model_selection import train_test_split, GridSearchCV, RandomizedSearchCV\n",
        "from sklearn.linear_model import LinearRegression, LogisticRegression\n",
        "from sklearn.metrics import mean_absolute_error, mean_squared_error, r2_score, accuracy_score, classification_report\n",
        "from sklearn.tree import DecisionTreeRegressor, DecisionTreeClassifier\n",
        "from sklearn.ensemble import RandomForestRegressor\n",
        "from sklearn.preprocessing import StandardScaler, LabelEncoder\n",
        "from sklearn.model_selection import train_test_split\n",
        "from sklearn.feature_selection import SelectKBest, f_classif\n",
        "from sklearn.impute import SimpleImputer\n",
        "from sklearn.preprocessing import LabelEncoder\n",
        "from sklearn.linear_model import LogisticRegression\n",
        "from sklearn.model_selection import GridSearchCV, StratifiedKFold\n",
        "\n",
        "\n",
        "\n"
      ]
    },
    {
      "cell_type": "code",
      "source": [
        "Gym_Members_Exercise_Dataset=pd.read_csv(\"/content/drive/MyDrive/Final portfolio/gym_members_exercise_tracking.csv\")"
      ],
      "metadata": {
        "id": "p3lSyO0lmqxY"
      },
      "execution_count": 54,
      "outputs": []
    },
    {
      "cell_type": "markdown",
      "source": [
        "# Dataset Information\n",
        "\n",
        "\n"
      ],
      "metadata": {
        "id": "X1GpwYfwo8Jv"
      }
    },
    {
      "cell_type": "markdown",
      "source": [
        " **Dataset Name:** Gym Members Exercise Dataset  \n",
        "- **Created by:** Seyed Vala Khorasani  \n",
        "- **Created on:** Not Listed\n",
        "- **Access Method:** Downloaded using kaggle and uploaded into Google\n",
        "  Drive for use in Google Colab\n"
      ],
      "metadata": {
        "id": "45SndmI_uuAb"
      }
    },
    {
      "cell_type": "markdown",
      "source": [
        "**How does it align with the chosen UNSDG?**\n",
        "\n",
        "This dataset aligns with UNSDG 3: Good Health and Well-Being, as it provides insights into gym members' exercise habits, which are crucial for promoting physical fitness and healthy lifestyles."
      ],
      "metadata": {
        "id": "NZRpGUCmsnCB"
      }
    },
    {
      "cell_type": "code",
      "source": [
        "print(\"The columns present in the dataset are:\",Gym_Members_Exercise_Dataset)"
      ],
      "metadata": {
        "colab": {
          "base_uri": "https://localhost:8080/"
        },
        "id": "55flCLMcs-rP",
        "outputId": "5572ff98-044d-4072-83d3-d1f2cb2c395c"
      },
      "execution_count": 55,
      "outputs": [
        {
          "output_type": "stream",
          "name": "stdout",
          "text": [
            "The columns present in the dataset are:      Age  Gender  Weight (kg)  Height (m)  Max_BPM  Avg_BPM  Resting_BPM  \\\n",
            "0     56    Male         88.3        1.71      180      157           60   \n",
            "1     46  Female         74.9        1.53      179      151           66   \n",
            "2     32  Female         68.1        1.66      167      122           54   \n",
            "3     25    Male         53.2        1.70      190      164           56   \n",
            "4     38    Male         46.1        1.79      188      158           68   \n",
            "..   ...     ...          ...         ...      ...      ...          ...   \n",
            "968   24    Male         87.1        1.74      187      158           67   \n",
            "969   25    Male         66.6        1.61      184      166           56   \n",
            "970   59  Female         60.4        1.76      194      120           53   \n",
            "971   32    Male        126.4        1.83      198      146           62   \n",
            "972   46    Male         88.7        1.63      166      146           66   \n",
            "\n",
            "     Session_Duration (hours)  Calories_Burned Workout_Type  Fat_Percentage  \\\n",
            "0                        1.69           1313.0         Yoga            12.6   \n",
            "1                        1.30            883.0         HIIT            33.9   \n",
            "2                        1.11            677.0       Cardio            33.4   \n",
            "3                        0.59            532.0     Strength            28.8   \n",
            "4                        0.64            556.0     Strength            29.2   \n",
            "..                        ...              ...          ...             ...   \n",
            "968                      1.57           1364.0     Strength            10.0   \n",
            "969                      1.38           1260.0     Strength            25.0   \n",
            "970                      1.72            929.0       Cardio            18.8   \n",
            "971                      1.10            883.0         HIIT            28.2   \n",
            "972                      0.75            542.0     Strength            28.8   \n",
            "\n",
            "     Water_Intake (liters)  Workout_Frequency (days/week)  Experience_Level  \\\n",
            "0                      3.5                              4                 3   \n",
            "1                      2.1                              4                 2   \n",
            "2                      2.3                              4                 2   \n",
            "3                      2.1                              3                 1   \n",
            "4                      2.8                              3                 1   \n",
            "..                     ...                            ...               ...   \n",
            "968                    3.5                              4                 3   \n",
            "969                    3.0                              2                 1   \n",
            "970                    2.7                              5                 3   \n",
            "971                    2.1                              3                 2   \n",
            "972                    3.5                              2                 1   \n",
            "\n",
            "       BMI  \n",
            "0    30.20  \n",
            "1    32.00  \n",
            "2    24.71  \n",
            "3    18.41  \n",
            "4    14.39  \n",
            "..     ...  \n",
            "968  28.77  \n",
            "969  25.69  \n",
            "970  19.50  \n",
            "971  37.74  \n",
            "972  33.38  \n",
            "\n",
            "[973 rows x 15 columns]\n"
          ]
        }
      ]
    },
    {
      "cell_type": "markdown",
      "source": [
        "\n",
        "\n",
        "---\n",
        "\n"
      ],
      "metadata": {
        "id": "qYH8Hqcuufxf"
      }
    },
    {
      "cell_type": "markdown",
      "source": [
        "**potential questions that dataset could help answer**\n",
        "\n",
        "*   What is the most common exercise type among gym members\n",
        "*   Can we predict workout type based on other attributes?\n",
        "\n",
        "\n"
      ],
      "metadata": {
        "id": "2bcYaGSKtZOf"
      }
    },
    {
      "cell_type": "markdown",
      "source": [
        "   \n",
        "\n",
        "---\n",
        "\n"
      ],
      "metadata": {
        "id": "pLOSRdPPuYs3"
      }
    },
    {
      "cell_type": "markdown",
      "source": [
        "**Dataset suitability**"
      ],
      "metadata": {
        "id": "20qDKDRct-VH"
      }
    },
    {
      "cell_type": "code",
      "source": [
        "Gym_Members_Exercise_Dataset.isnull().sum().any()"
      ],
      "metadata": {
        "colab": {
          "base_uri": "https://localhost:8080/"
        },
        "id": "zGc0LqUUt99J",
        "outputId": "f6eecd0f-7973-4323-c9f2-b68aa23644f5"
      },
      "execution_count": 56,
      "outputs": [
        {
          "output_type": "execute_result",
          "data": {
            "text/plain": [
              "False"
            ]
          },
          "metadata": {},
          "execution_count": 56
        }
      ]
    },
    {
      "cell_type": "code",
      "source": [
        "Gym_Members_Exercise_Dataset.duplicated().sum().any()"
      ],
      "metadata": {
        "colab": {
          "base_uri": "https://localhost:8080/"
        },
        "id": "ABo3w1A3u-rH",
        "outputId": "f370b990-26fa-453c-bb83-dc3e786dbd19"
      },
      "execution_count": 57,
      "outputs": [
        {
          "output_type": "execute_result",
          "data": {
            "text/plain": [
              "False"
            ]
          },
          "metadata": {},
          "execution_count": 57
        }
      ]
    },
    {
      "cell_type": "markdown",
      "source": [
        "# EDA"
      ],
      "metadata": {
        "id": "kNq67E_sEg-1"
      }
    },
    {
      "cell_type": "code",
      "source": [
        "Gym_Members_Exercise_Dataset.info()\n"
      ],
      "metadata": {
        "colab": {
          "base_uri": "https://localhost:8080/"
        },
        "id": "QCkVpycJv1F2",
        "outputId": "1d1737d4-0ea9-494d-815d-43177106d2cf"
      },
      "execution_count": 58,
      "outputs": [
        {
          "output_type": "stream",
          "name": "stdout",
          "text": [
            "<class 'pandas.core.frame.DataFrame'>\n",
            "RangeIndex: 973 entries, 0 to 972\n",
            "Data columns (total 15 columns):\n",
            " #   Column                         Non-Null Count  Dtype  \n",
            "---  ------                         --------------  -----  \n",
            " 0   Age                            973 non-null    int64  \n",
            " 1   Gender                         973 non-null    object \n",
            " 2   Weight (kg)                    973 non-null    float64\n",
            " 3   Height (m)                     973 non-null    float64\n",
            " 4   Max_BPM                        973 non-null    int64  \n",
            " 5   Avg_BPM                        973 non-null    int64  \n",
            " 6   Resting_BPM                    973 non-null    int64  \n",
            " 7   Session_Duration (hours)       973 non-null    float64\n",
            " 8   Calories_Burned                973 non-null    float64\n",
            " 9   Workout_Type                   973 non-null    object \n",
            " 10  Fat_Percentage                 973 non-null    float64\n",
            " 11  Water_Intake (liters)          973 non-null    float64\n",
            " 12  Workout_Frequency (days/week)  973 non-null    int64  \n",
            " 13  Experience_Level               973 non-null    int64  \n",
            " 14  BMI                            973 non-null    float64\n",
            "dtypes: float64(7), int64(6), object(2)\n",
            "memory usage: 114.2+ KB\n"
          ]
        }
      ]
    },
    {
      "cell_type": "code",
      "source": [
        "Gym_Members_Exercise_Dataset.head()"
      ],
      "metadata": {
        "colab": {
          "base_uri": "https://localhost:8080/",
          "height": 243
        },
        "id": "HcgCF-bvpToo",
        "outputId": "a522ff3d-fbe7-4bff-b5ea-fcea9f8bf078"
      },
      "execution_count": 59,
      "outputs": [
        {
          "output_type": "execute_result",
          "data": {
            "text/plain": [
              "   Age  Gender  Weight (kg)  Height (m)  Max_BPM  Avg_BPM  Resting_BPM  \\\n",
              "0   56    Male         88.3        1.71      180      157           60   \n",
              "1   46  Female         74.9        1.53      179      151           66   \n",
              "2   32  Female         68.1        1.66      167      122           54   \n",
              "3   25    Male         53.2        1.70      190      164           56   \n",
              "4   38    Male         46.1        1.79      188      158           68   \n",
              "\n",
              "   Session_Duration (hours)  Calories_Burned Workout_Type  Fat_Percentage  \\\n",
              "0                      1.69           1313.0         Yoga            12.6   \n",
              "1                      1.30            883.0         HIIT            33.9   \n",
              "2                      1.11            677.0       Cardio            33.4   \n",
              "3                      0.59            532.0     Strength            28.8   \n",
              "4                      0.64            556.0     Strength            29.2   \n",
              "\n",
              "   Water_Intake (liters)  Workout_Frequency (days/week)  Experience_Level  \\\n",
              "0                    3.5                              4                 3   \n",
              "1                    2.1                              4                 2   \n",
              "2                    2.3                              4                 2   \n",
              "3                    2.1                              3                 1   \n",
              "4                    2.8                              3                 1   \n",
              "\n",
              "     BMI  \n",
              "0  30.20  \n",
              "1  32.00  \n",
              "2  24.71  \n",
              "3  18.41  \n",
              "4  14.39  "
            ],
            "text/html": [
              "\n",
              "  <div id=\"df-81f92698-4954-4699-9384-721314085c85\" class=\"colab-df-container\">\n",
              "    <div>\n",
              "<style scoped>\n",
              "    .dataframe tbody tr th:only-of-type {\n",
              "        vertical-align: middle;\n",
              "    }\n",
              "\n",
              "    .dataframe tbody tr th {\n",
              "        vertical-align: top;\n",
              "    }\n",
              "\n",
              "    .dataframe thead th {\n",
              "        text-align: right;\n",
              "    }\n",
              "</style>\n",
              "<table border=\"1\" class=\"dataframe\">\n",
              "  <thead>\n",
              "    <tr style=\"text-align: right;\">\n",
              "      <th></th>\n",
              "      <th>Age</th>\n",
              "      <th>Gender</th>\n",
              "      <th>Weight (kg)</th>\n",
              "      <th>Height (m)</th>\n",
              "      <th>Max_BPM</th>\n",
              "      <th>Avg_BPM</th>\n",
              "      <th>Resting_BPM</th>\n",
              "      <th>Session_Duration (hours)</th>\n",
              "      <th>Calories_Burned</th>\n",
              "      <th>Workout_Type</th>\n",
              "      <th>Fat_Percentage</th>\n",
              "      <th>Water_Intake (liters)</th>\n",
              "      <th>Workout_Frequency (days/week)</th>\n",
              "      <th>Experience_Level</th>\n",
              "      <th>BMI</th>\n",
              "    </tr>\n",
              "  </thead>\n",
              "  <tbody>\n",
              "    <tr>\n",
              "      <th>0</th>\n",
              "      <td>56</td>\n",
              "      <td>Male</td>\n",
              "      <td>88.3</td>\n",
              "      <td>1.71</td>\n",
              "      <td>180</td>\n",
              "      <td>157</td>\n",
              "      <td>60</td>\n",
              "      <td>1.69</td>\n",
              "      <td>1313.0</td>\n",
              "      <td>Yoga</td>\n",
              "      <td>12.6</td>\n",
              "      <td>3.5</td>\n",
              "      <td>4</td>\n",
              "      <td>3</td>\n",
              "      <td>30.20</td>\n",
              "    </tr>\n",
              "    <tr>\n",
              "      <th>1</th>\n",
              "      <td>46</td>\n",
              "      <td>Female</td>\n",
              "      <td>74.9</td>\n",
              "      <td>1.53</td>\n",
              "      <td>179</td>\n",
              "      <td>151</td>\n",
              "      <td>66</td>\n",
              "      <td>1.30</td>\n",
              "      <td>883.0</td>\n",
              "      <td>HIIT</td>\n",
              "      <td>33.9</td>\n",
              "      <td>2.1</td>\n",
              "      <td>4</td>\n",
              "      <td>2</td>\n",
              "      <td>32.00</td>\n",
              "    </tr>\n",
              "    <tr>\n",
              "      <th>2</th>\n",
              "      <td>32</td>\n",
              "      <td>Female</td>\n",
              "      <td>68.1</td>\n",
              "      <td>1.66</td>\n",
              "      <td>167</td>\n",
              "      <td>122</td>\n",
              "      <td>54</td>\n",
              "      <td>1.11</td>\n",
              "      <td>677.0</td>\n",
              "      <td>Cardio</td>\n",
              "      <td>33.4</td>\n",
              "      <td>2.3</td>\n",
              "      <td>4</td>\n",
              "      <td>2</td>\n",
              "      <td>24.71</td>\n",
              "    </tr>\n",
              "    <tr>\n",
              "      <th>3</th>\n",
              "      <td>25</td>\n",
              "      <td>Male</td>\n",
              "      <td>53.2</td>\n",
              "      <td>1.70</td>\n",
              "      <td>190</td>\n",
              "      <td>164</td>\n",
              "      <td>56</td>\n",
              "      <td>0.59</td>\n",
              "      <td>532.0</td>\n",
              "      <td>Strength</td>\n",
              "      <td>28.8</td>\n",
              "      <td>2.1</td>\n",
              "      <td>3</td>\n",
              "      <td>1</td>\n",
              "      <td>18.41</td>\n",
              "    </tr>\n",
              "    <tr>\n",
              "      <th>4</th>\n",
              "      <td>38</td>\n",
              "      <td>Male</td>\n",
              "      <td>46.1</td>\n",
              "      <td>1.79</td>\n",
              "      <td>188</td>\n",
              "      <td>158</td>\n",
              "      <td>68</td>\n",
              "      <td>0.64</td>\n",
              "      <td>556.0</td>\n",
              "      <td>Strength</td>\n",
              "      <td>29.2</td>\n",
              "      <td>2.8</td>\n",
              "      <td>3</td>\n",
              "      <td>1</td>\n",
              "      <td>14.39</td>\n",
              "    </tr>\n",
              "  </tbody>\n",
              "</table>\n",
              "</div>\n",
              "    <div class=\"colab-df-buttons\">\n",
              "\n",
              "  <div class=\"colab-df-container\">\n",
              "    <button class=\"colab-df-convert\" onclick=\"convertToInteractive('df-81f92698-4954-4699-9384-721314085c85')\"\n",
              "            title=\"Convert this dataframe to an interactive table.\"\n",
              "            style=\"display:none;\">\n",
              "\n",
              "  <svg xmlns=\"http://www.w3.org/2000/svg\" height=\"24px\" viewBox=\"0 -960 960 960\">\n",
              "    <path d=\"M120-120v-720h720v720H120Zm60-500h600v-160H180v160Zm220 220h160v-160H400v160Zm0 220h160v-160H400v160ZM180-400h160v-160H180v160Zm440 0h160v-160H620v160ZM180-180h160v-160H180v160Zm440 0h160v-160H620v160Z\"/>\n",
              "  </svg>\n",
              "    </button>\n",
              "\n",
              "  <style>\n",
              "    .colab-df-container {\n",
              "      display:flex;\n",
              "      gap: 12px;\n",
              "    }\n",
              "\n",
              "    .colab-df-convert {\n",
              "      background-color: #E8F0FE;\n",
              "      border: none;\n",
              "      border-radius: 50%;\n",
              "      cursor: pointer;\n",
              "      display: none;\n",
              "      fill: #1967D2;\n",
              "      height: 32px;\n",
              "      padding: 0 0 0 0;\n",
              "      width: 32px;\n",
              "    }\n",
              "\n",
              "    .colab-df-convert:hover {\n",
              "      background-color: #E2EBFA;\n",
              "      box-shadow: 0px 1px 2px rgba(60, 64, 67, 0.3), 0px 1px 3px 1px rgba(60, 64, 67, 0.15);\n",
              "      fill: #174EA6;\n",
              "    }\n",
              "\n",
              "    .colab-df-buttons div {\n",
              "      margin-bottom: 4px;\n",
              "    }\n",
              "\n",
              "    [theme=dark] .colab-df-convert {\n",
              "      background-color: #3B4455;\n",
              "      fill: #D2E3FC;\n",
              "    }\n",
              "\n",
              "    [theme=dark] .colab-df-convert:hover {\n",
              "      background-color: #434B5C;\n",
              "      box-shadow: 0px 1px 3px 1px rgba(0, 0, 0, 0.15);\n",
              "      filter: drop-shadow(0px 1px 2px rgba(0, 0, 0, 0.3));\n",
              "      fill: #FFFFFF;\n",
              "    }\n",
              "  </style>\n",
              "\n",
              "    <script>\n",
              "      const buttonEl =\n",
              "        document.querySelector('#df-81f92698-4954-4699-9384-721314085c85 button.colab-df-convert');\n",
              "      buttonEl.style.display =\n",
              "        google.colab.kernel.accessAllowed ? 'block' : 'none';\n",
              "\n",
              "      async function convertToInteractive(key) {\n",
              "        const element = document.querySelector('#df-81f92698-4954-4699-9384-721314085c85');\n",
              "        const dataTable =\n",
              "          await google.colab.kernel.invokeFunction('convertToInteractive',\n",
              "                                                    [key], {});\n",
              "        if (!dataTable) return;\n",
              "\n",
              "        const docLinkHtml = 'Like what you see? Visit the ' +\n",
              "          '<a target=\"_blank\" href=https://colab.research.google.com/notebooks/data_table.ipynb>data table notebook</a>'\n",
              "          + ' to learn more about interactive tables.';\n",
              "        element.innerHTML = '';\n",
              "        dataTable['output_type'] = 'display_data';\n",
              "        await google.colab.output.renderOutput(dataTable, element);\n",
              "        const docLink = document.createElement('div');\n",
              "        docLink.innerHTML = docLinkHtml;\n",
              "        element.appendChild(docLink);\n",
              "      }\n",
              "    </script>\n",
              "  </div>\n",
              "\n",
              "\n",
              "<div id=\"df-bc12159d-26bf-4d04-babc-4531b84f6500\">\n",
              "  <button class=\"colab-df-quickchart\" onclick=\"quickchart('df-bc12159d-26bf-4d04-babc-4531b84f6500')\"\n",
              "            title=\"Suggest charts\"\n",
              "            style=\"display:none;\">\n",
              "\n",
              "<svg xmlns=\"http://www.w3.org/2000/svg\" height=\"24px\"viewBox=\"0 0 24 24\"\n",
              "     width=\"24px\">\n",
              "    <g>\n",
              "        <path d=\"M19 3H5c-1.1 0-2 .9-2 2v14c0 1.1.9 2 2 2h14c1.1 0 2-.9 2-2V5c0-1.1-.9-2-2-2zM9 17H7v-7h2v7zm4 0h-2V7h2v10zm4 0h-2v-4h2v4z\"/>\n",
              "    </g>\n",
              "</svg>\n",
              "  </button>\n",
              "\n",
              "<style>\n",
              "  .colab-df-quickchart {\n",
              "      --bg-color: #E8F0FE;\n",
              "      --fill-color: #1967D2;\n",
              "      --hover-bg-color: #E2EBFA;\n",
              "      --hover-fill-color: #174EA6;\n",
              "      --disabled-fill-color: #AAA;\n",
              "      --disabled-bg-color: #DDD;\n",
              "  }\n",
              "\n",
              "  [theme=dark] .colab-df-quickchart {\n",
              "      --bg-color: #3B4455;\n",
              "      --fill-color: #D2E3FC;\n",
              "      --hover-bg-color: #434B5C;\n",
              "      --hover-fill-color: #FFFFFF;\n",
              "      --disabled-bg-color: #3B4455;\n",
              "      --disabled-fill-color: #666;\n",
              "  }\n",
              "\n",
              "  .colab-df-quickchart {\n",
              "    background-color: var(--bg-color);\n",
              "    border: none;\n",
              "    border-radius: 50%;\n",
              "    cursor: pointer;\n",
              "    display: none;\n",
              "    fill: var(--fill-color);\n",
              "    height: 32px;\n",
              "    padding: 0;\n",
              "    width: 32px;\n",
              "  }\n",
              "\n",
              "  .colab-df-quickchart:hover {\n",
              "    background-color: var(--hover-bg-color);\n",
              "    box-shadow: 0 1px 2px rgba(60, 64, 67, 0.3), 0 1px 3px 1px rgba(60, 64, 67, 0.15);\n",
              "    fill: var(--button-hover-fill-color);\n",
              "  }\n",
              "\n",
              "  .colab-df-quickchart-complete:disabled,\n",
              "  .colab-df-quickchart-complete:disabled:hover {\n",
              "    background-color: var(--disabled-bg-color);\n",
              "    fill: var(--disabled-fill-color);\n",
              "    box-shadow: none;\n",
              "  }\n",
              "\n",
              "  .colab-df-spinner {\n",
              "    border: 2px solid var(--fill-color);\n",
              "    border-color: transparent;\n",
              "    border-bottom-color: var(--fill-color);\n",
              "    animation:\n",
              "      spin 1s steps(1) infinite;\n",
              "  }\n",
              "\n",
              "  @keyframes spin {\n",
              "    0% {\n",
              "      border-color: transparent;\n",
              "      border-bottom-color: var(--fill-color);\n",
              "      border-left-color: var(--fill-color);\n",
              "    }\n",
              "    20% {\n",
              "      border-color: transparent;\n",
              "      border-left-color: var(--fill-color);\n",
              "      border-top-color: var(--fill-color);\n",
              "    }\n",
              "    30% {\n",
              "      border-color: transparent;\n",
              "      border-left-color: var(--fill-color);\n",
              "      border-top-color: var(--fill-color);\n",
              "      border-right-color: var(--fill-color);\n",
              "    }\n",
              "    40% {\n",
              "      border-color: transparent;\n",
              "      border-right-color: var(--fill-color);\n",
              "      border-top-color: var(--fill-color);\n",
              "    }\n",
              "    60% {\n",
              "      border-color: transparent;\n",
              "      border-right-color: var(--fill-color);\n",
              "    }\n",
              "    80% {\n",
              "      border-color: transparent;\n",
              "      border-right-color: var(--fill-color);\n",
              "      border-bottom-color: var(--fill-color);\n",
              "    }\n",
              "    90% {\n",
              "      border-color: transparent;\n",
              "      border-bottom-color: var(--fill-color);\n",
              "    }\n",
              "  }\n",
              "</style>\n",
              "\n",
              "  <script>\n",
              "    async function quickchart(key) {\n",
              "      const quickchartButtonEl =\n",
              "        document.querySelector('#' + key + ' button');\n",
              "      quickchartButtonEl.disabled = true;  // To prevent multiple clicks.\n",
              "      quickchartButtonEl.classList.add('colab-df-spinner');\n",
              "      try {\n",
              "        const charts = await google.colab.kernel.invokeFunction(\n",
              "            'suggestCharts', [key], {});\n",
              "      } catch (error) {\n",
              "        console.error('Error during call to suggestCharts:', error);\n",
              "      }\n",
              "      quickchartButtonEl.classList.remove('colab-df-spinner');\n",
              "      quickchartButtonEl.classList.add('colab-df-quickchart-complete');\n",
              "    }\n",
              "    (() => {\n",
              "      let quickchartButtonEl =\n",
              "        document.querySelector('#df-bc12159d-26bf-4d04-babc-4531b84f6500 button');\n",
              "      quickchartButtonEl.style.display =\n",
              "        google.colab.kernel.accessAllowed ? 'block' : 'none';\n",
              "    })();\n",
              "  </script>\n",
              "</div>\n",
              "\n",
              "    </div>\n",
              "  </div>\n"
            ],
            "application/vnd.google.colaboratory.intrinsic+json": {
              "type": "dataframe",
              "variable_name": "Gym_Members_Exercise_Dataset",
              "summary": "{\n  \"name\": \"Gym_Members_Exercise_Dataset\",\n  \"rows\": 973,\n  \"fields\": [\n    {\n      \"column\": \"Age\",\n      \"properties\": {\n        \"dtype\": \"number\",\n        \"std\": 12,\n        \"min\": 18,\n        \"max\": 59,\n        \"num_unique_values\": 42,\n        \"samples\": [\n          26,\n          19,\n          41\n        ],\n        \"semantic_type\": \"\",\n        \"description\": \"\"\n      }\n    },\n    {\n      \"column\": \"Gender\",\n      \"properties\": {\n        \"dtype\": \"category\",\n        \"num_unique_values\": 2,\n        \"samples\": [\n          \"Female\",\n          \"Male\"\n        ],\n        \"semantic_type\": \"\",\n        \"description\": \"\"\n      }\n    },\n    {\n      \"column\": \"Weight (kg)\",\n      \"properties\": {\n        \"dtype\": \"number\",\n        \"std\": 21.20750049840718,\n        \"min\": 40.0,\n        \"max\": 129.9,\n        \"num_unique_values\": 532,\n        \"samples\": [\n          70.3,\n          127.1\n        ],\n        \"semantic_type\": \"\",\n        \"description\": \"\"\n      }\n    },\n    {\n      \"column\": \"Height (m)\",\n      \"properties\": {\n        \"dtype\": \"number\",\n        \"std\": 0.12771989460721703,\n        \"min\": 1.5,\n        \"max\": 2.0,\n        \"num_unique_values\": 51,\n        \"samples\": [\n          1.92,\n          1.96\n        ],\n        \"semantic_type\": \"\",\n        \"description\": \"\"\n      }\n    },\n    {\n      \"column\": \"Max_BPM\",\n      \"properties\": {\n        \"dtype\": \"number\",\n        \"std\": 11,\n        \"min\": 160,\n        \"max\": 199,\n        \"num_unique_values\": 40,\n        \"samples\": [\n          173,\n          199\n        ],\n        \"semantic_type\": \"\",\n        \"description\": \"\"\n      }\n    },\n    {\n      \"column\": \"Avg_BPM\",\n      \"properties\": {\n        \"dtype\": \"number\",\n        \"std\": 14,\n        \"min\": 120,\n        \"max\": 169,\n        \"num_unique_values\": 50,\n        \"samples\": [\n          161,\n          130\n        ],\n        \"semantic_type\": \"\",\n        \"description\": \"\"\n      }\n    },\n    {\n      \"column\": \"Resting_BPM\",\n      \"properties\": {\n        \"dtype\": \"number\",\n        \"std\": 7,\n        \"min\": 50,\n        \"max\": 74,\n        \"num_unique_values\": 25,\n        \"samples\": [\n          52,\n          62\n        ],\n        \"semantic_type\": \"\",\n        \"description\": \"\"\n      }\n    },\n    {\n      \"column\": \"Session_Duration (hours)\",\n      \"properties\": {\n        \"dtype\": \"number\",\n        \"std\": 0.3430334803899634,\n        \"min\": 0.5,\n        \"max\": 2.0,\n        \"num_unique_values\": 147,\n        \"samples\": [\n          1.9,\n          1.81\n        ],\n        \"semantic_type\": \"\",\n        \"description\": \"\"\n      }\n    },\n    {\n      \"column\": \"Calories_Burned\",\n      \"properties\": {\n        \"dtype\": \"number\",\n        \"std\": 272.64151645225877,\n        \"min\": 303.0,\n        \"max\": 1783.0,\n        \"num_unique_values\": 621,\n        \"samples\": [\n          1122.0,\n          494.0\n        ],\n        \"semantic_type\": \"\",\n        \"description\": \"\"\n      }\n    },\n    {\n      \"column\": \"Workout_Type\",\n      \"properties\": {\n        \"dtype\": \"category\",\n        \"num_unique_values\": 4,\n        \"samples\": [\n          \"HIIT\",\n          \"Strength\"\n        ],\n        \"semantic_type\": \"\",\n        \"description\": \"\"\n      }\n    },\n    {\n      \"column\": \"Fat_Percentage\",\n      \"properties\": {\n        \"dtype\": \"number\",\n        \"std\": 6.259418834269056,\n        \"min\": 10.0,\n        \"max\": 35.0,\n        \"num_unique_values\": 239,\n        \"samples\": [\n          26.1,\n          21.3\n        ],\n        \"semantic_type\": \"\",\n        \"description\": \"\"\n      }\n    },\n    {\n      \"column\": \"Water_Intake (liters)\",\n      \"properties\": {\n        \"dtype\": \"number\",\n        \"std\": 0.6001719365613234,\n        \"min\": 1.5,\n        \"max\": 3.7,\n        \"num_unique_values\": 23,\n        \"samples\": [\n          1.8,\n          3.3\n        ],\n        \"semantic_type\": \"\",\n        \"description\": \"\"\n      }\n    },\n    {\n      \"column\": \"Workout_Frequency (days/week)\",\n      \"properties\": {\n        \"dtype\": \"number\",\n        \"std\": 0,\n        \"min\": 2,\n        \"max\": 5,\n        \"num_unique_values\": 4,\n        \"samples\": [\n          3,\n          2\n        ],\n        \"semantic_type\": \"\",\n        \"description\": \"\"\n      }\n    },\n    {\n      \"column\": \"Experience_Level\",\n      \"properties\": {\n        \"dtype\": \"number\",\n        \"std\": 0,\n        \"min\": 1,\n        \"max\": 3,\n        \"num_unique_values\": 3,\n        \"samples\": [\n          3,\n          2\n        ],\n        \"semantic_type\": \"\",\n        \"description\": \"\"\n      }\n    },\n    {\n      \"column\": \"BMI\",\n      \"properties\": {\n        \"dtype\": \"number\",\n        \"std\": 6.660879393631086,\n        \"min\": 12.32,\n        \"max\": 49.84,\n        \"num_unique_values\": 771,\n        \"samples\": [\n          22.67,\n          23.94\n        ],\n        \"semantic_type\": \"\",\n        \"description\": \"\"\n      }\n    }\n  ]\n}"
            }
          },
          "metadata": {},
          "execution_count": 59
        }
      ]
    },
    {
      "cell_type": "code",
      "source": [
        "Gym_Members_Exercise_Dataset.describe()"
      ],
      "metadata": {
        "id": "uuSoqZi3o7DH",
        "colab": {
          "base_uri": "https://localhost:8080/",
          "height": 337
        },
        "outputId": "209cdef1-0eb9-4e83-8382-fd2d66a6a930"
      },
      "execution_count": 60,
      "outputs": [
        {
          "output_type": "execute_result",
          "data": {
            "text/plain": [
              "              Age  Weight (kg)  Height (m)     Max_BPM     Avg_BPM  \\\n",
              "count  973.000000   973.000000   973.00000  973.000000  973.000000   \n",
              "mean    38.683453    73.854676     1.72258  179.883864  143.766701   \n",
              "std     12.180928    21.207500     0.12772   11.525686   14.345101   \n",
              "min     18.000000    40.000000     1.50000  160.000000  120.000000   \n",
              "25%     28.000000    58.100000     1.62000  170.000000  131.000000   \n",
              "50%     40.000000    70.000000     1.71000  180.000000  143.000000   \n",
              "75%     49.000000    86.000000     1.80000  190.000000  156.000000   \n",
              "max     59.000000   129.900000     2.00000  199.000000  169.000000   \n",
              "\n",
              "       Resting_BPM  Session_Duration (hours)  Calories_Burned  Fat_Percentage  \\\n",
              "count   973.000000                973.000000       973.000000      973.000000   \n",
              "mean     62.223022                  1.256423       905.422405       24.976773   \n",
              "std       7.327060                  0.343033       272.641516        6.259419   \n",
              "min      50.000000                  0.500000       303.000000       10.000000   \n",
              "25%      56.000000                  1.040000       720.000000       21.300000   \n",
              "50%      62.000000                  1.260000       893.000000       26.200000   \n",
              "75%      68.000000                  1.460000      1076.000000       29.300000   \n",
              "max      74.000000                  2.000000      1783.000000       35.000000   \n",
              "\n",
              "       Water_Intake (liters)  Workout_Frequency (days/week)  Experience_Level  \\\n",
              "count             973.000000                     973.000000        973.000000   \n",
              "mean                2.626619                       3.321686          1.809866   \n",
              "std                 0.600172                       0.913047          0.739693   \n",
              "min                 1.500000                       2.000000          1.000000   \n",
              "25%                 2.200000                       3.000000          1.000000   \n",
              "50%                 2.600000                       3.000000          2.000000   \n",
              "75%                 3.100000                       4.000000          2.000000   \n",
              "max                 3.700000                       5.000000          3.000000   \n",
              "\n",
              "              BMI  \n",
              "count  973.000000  \n",
              "mean    24.912127  \n",
              "std      6.660879  \n",
              "min     12.320000  \n",
              "25%     20.110000  \n",
              "50%     24.160000  \n",
              "75%     28.560000  \n",
              "max     49.840000  "
            ],
            "text/html": [
              "\n",
              "  <div id=\"df-cc27d3a8-c977-468d-a7d4-05c36c1947b7\" class=\"colab-df-container\">\n",
              "    <div>\n",
              "<style scoped>\n",
              "    .dataframe tbody tr th:only-of-type {\n",
              "        vertical-align: middle;\n",
              "    }\n",
              "\n",
              "    .dataframe tbody tr th {\n",
              "        vertical-align: top;\n",
              "    }\n",
              "\n",
              "    .dataframe thead th {\n",
              "        text-align: right;\n",
              "    }\n",
              "</style>\n",
              "<table border=\"1\" class=\"dataframe\">\n",
              "  <thead>\n",
              "    <tr style=\"text-align: right;\">\n",
              "      <th></th>\n",
              "      <th>Age</th>\n",
              "      <th>Weight (kg)</th>\n",
              "      <th>Height (m)</th>\n",
              "      <th>Max_BPM</th>\n",
              "      <th>Avg_BPM</th>\n",
              "      <th>Resting_BPM</th>\n",
              "      <th>Session_Duration (hours)</th>\n",
              "      <th>Calories_Burned</th>\n",
              "      <th>Fat_Percentage</th>\n",
              "      <th>Water_Intake (liters)</th>\n",
              "      <th>Workout_Frequency (days/week)</th>\n",
              "      <th>Experience_Level</th>\n",
              "      <th>BMI</th>\n",
              "    </tr>\n",
              "  </thead>\n",
              "  <tbody>\n",
              "    <tr>\n",
              "      <th>count</th>\n",
              "      <td>973.000000</td>\n",
              "      <td>973.000000</td>\n",
              "      <td>973.00000</td>\n",
              "      <td>973.000000</td>\n",
              "      <td>973.000000</td>\n",
              "      <td>973.000000</td>\n",
              "      <td>973.000000</td>\n",
              "      <td>973.000000</td>\n",
              "      <td>973.000000</td>\n",
              "      <td>973.000000</td>\n",
              "      <td>973.000000</td>\n",
              "      <td>973.000000</td>\n",
              "      <td>973.000000</td>\n",
              "    </tr>\n",
              "    <tr>\n",
              "      <th>mean</th>\n",
              "      <td>38.683453</td>\n",
              "      <td>73.854676</td>\n",
              "      <td>1.72258</td>\n",
              "      <td>179.883864</td>\n",
              "      <td>143.766701</td>\n",
              "      <td>62.223022</td>\n",
              "      <td>1.256423</td>\n",
              "      <td>905.422405</td>\n",
              "      <td>24.976773</td>\n",
              "      <td>2.626619</td>\n",
              "      <td>3.321686</td>\n",
              "      <td>1.809866</td>\n",
              "      <td>24.912127</td>\n",
              "    </tr>\n",
              "    <tr>\n",
              "      <th>std</th>\n",
              "      <td>12.180928</td>\n",
              "      <td>21.207500</td>\n",
              "      <td>0.12772</td>\n",
              "      <td>11.525686</td>\n",
              "      <td>14.345101</td>\n",
              "      <td>7.327060</td>\n",
              "      <td>0.343033</td>\n",
              "      <td>272.641516</td>\n",
              "      <td>6.259419</td>\n",
              "      <td>0.600172</td>\n",
              "      <td>0.913047</td>\n",
              "      <td>0.739693</td>\n",
              "      <td>6.660879</td>\n",
              "    </tr>\n",
              "    <tr>\n",
              "      <th>min</th>\n",
              "      <td>18.000000</td>\n",
              "      <td>40.000000</td>\n",
              "      <td>1.50000</td>\n",
              "      <td>160.000000</td>\n",
              "      <td>120.000000</td>\n",
              "      <td>50.000000</td>\n",
              "      <td>0.500000</td>\n",
              "      <td>303.000000</td>\n",
              "      <td>10.000000</td>\n",
              "      <td>1.500000</td>\n",
              "      <td>2.000000</td>\n",
              "      <td>1.000000</td>\n",
              "      <td>12.320000</td>\n",
              "    </tr>\n",
              "    <tr>\n",
              "      <th>25%</th>\n",
              "      <td>28.000000</td>\n",
              "      <td>58.100000</td>\n",
              "      <td>1.62000</td>\n",
              "      <td>170.000000</td>\n",
              "      <td>131.000000</td>\n",
              "      <td>56.000000</td>\n",
              "      <td>1.040000</td>\n",
              "      <td>720.000000</td>\n",
              "      <td>21.300000</td>\n",
              "      <td>2.200000</td>\n",
              "      <td>3.000000</td>\n",
              "      <td>1.000000</td>\n",
              "      <td>20.110000</td>\n",
              "    </tr>\n",
              "    <tr>\n",
              "      <th>50%</th>\n",
              "      <td>40.000000</td>\n",
              "      <td>70.000000</td>\n",
              "      <td>1.71000</td>\n",
              "      <td>180.000000</td>\n",
              "      <td>143.000000</td>\n",
              "      <td>62.000000</td>\n",
              "      <td>1.260000</td>\n",
              "      <td>893.000000</td>\n",
              "      <td>26.200000</td>\n",
              "      <td>2.600000</td>\n",
              "      <td>3.000000</td>\n",
              "      <td>2.000000</td>\n",
              "      <td>24.160000</td>\n",
              "    </tr>\n",
              "    <tr>\n",
              "      <th>75%</th>\n",
              "      <td>49.000000</td>\n",
              "      <td>86.000000</td>\n",
              "      <td>1.80000</td>\n",
              "      <td>190.000000</td>\n",
              "      <td>156.000000</td>\n",
              "      <td>68.000000</td>\n",
              "      <td>1.460000</td>\n",
              "      <td>1076.000000</td>\n",
              "      <td>29.300000</td>\n",
              "      <td>3.100000</td>\n",
              "      <td>4.000000</td>\n",
              "      <td>2.000000</td>\n",
              "      <td>28.560000</td>\n",
              "    </tr>\n",
              "    <tr>\n",
              "      <th>max</th>\n",
              "      <td>59.000000</td>\n",
              "      <td>129.900000</td>\n",
              "      <td>2.00000</td>\n",
              "      <td>199.000000</td>\n",
              "      <td>169.000000</td>\n",
              "      <td>74.000000</td>\n",
              "      <td>2.000000</td>\n",
              "      <td>1783.000000</td>\n",
              "      <td>35.000000</td>\n",
              "      <td>3.700000</td>\n",
              "      <td>5.000000</td>\n",
              "      <td>3.000000</td>\n",
              "      <td>49.840000</td>\n",
              "    </tr>\n",
              "  </tbody>\n",
              "</table>\n",
              "</div>\n",
              "    <div class=\"colab-df-buttons\">\n",
              "\n",
              "  <div class=\"colab-df-container\">\n",
              "    <button class=\"colab-df-convert\" onclick=\"convertToInteractive('df-cc27d3a8-c977-468d-a7d4-05c36c1947b7')\"\n",
              "            title=\"Convert this dataframe to an interactive table.\"\n",
              "            style=\"display:none;\">\n",
              "\n",
              "  <svg xmlns=\"http://www.w3.org/2000/svg\" height=\"24px\" viewBox=\"0 -960 960 960\">\n",
              "    <path d=\"M120-120v-720h720v720H120Zm60-500h600v-160H180v160Zm220 220h160v-160H400v160Zm0 220h160v-160H400v160ZM180-400h160v-160H180v160Zm440 0h160v-160H620v160ZM180-180h160v-160H180v160Zm440 0h160v-160H620v160Z\"/>\n",
              "  </svg>\n",
              "    </button>\n",
              "\n",
              "  <style>\n",
              "    .colab-df-container {\n",
              "      display:flex;\n",
              "      gap: 12px;\n",
              "    }\n",
              "\n",
              "    .colab-df-convert {\n",
              "      background-color: #E8F0FE;\n",
              "      border: none;\n",
              "      border-radius: 50%;\n",
              "      cursor: pointer;\n",
              "      display: none;\n",
              "      fill: #1967D2;\n",
              "      height: 32px;\n",
              "      padding: 0 0 0 0;\n",
              "      width: 32px;\n",
              "    }\n",
              "\n",
              "    .colab-df-convert:hover {\n",
              "      background-color: #E2EBFA;\n",
              "      box-shadow: 0px 1px 2px rgba(60, 64, 67, 0.3), 0px 1px 3px 1px rgba(60, 64, 67, 0.15);\n",
              "      fill: #174EA6;\n",
              "    }\n",
              "\n",
              "    .colab-df-buttons div {\n",
              "      margin-bottom: 4px;\n",
              "    }\n",
              "\n",
              "    [theme=dark] .colab-df-convert {\n",
              "      background-color: #3B4455;\n",
              "      fill: #D2E3FC;\n",
              "    }\n",
              "\n",
              "    [theme=dark] .colab-df-convert:hover {\n",
              "      background-color: #434B5C;\n",
              "      box-shadow: 0px 1px 3px 1px rgba(0, 0, 0, 0.15);\n",
              "      filter: drop-shadow(0px 1px 2px rgba(0, 0, 0, 0.3));\n",
              "      fill: #FFFFFF;\n",
              "    }\n",
              "  </style>\n",
              "\n",
              "    <script>\n",
              "      const buttonEl =\n",
              "        document.querySelector('#df-cc27d3a8-c977-468d-a7d4-05c36c1947b7 button.colab-df-convert');\n",
              "      buttonEl.style.display =\n",
              "        google.colab.kernel.accessAllowed ? 'block' : 'none';\n",
              "\n",
              "      async function convertToInteractive(key) {\n",
              "        const element = document.querySelector('#df-cc27d3a8-c977-468d-a7d4-05c36c1947b7');\n",
              "        const dataTable =\n",
              "          await google.colab.kernel.invokeFunction('convertToInteractive',\n",
              "                                                    [key], {});\n",
              "        if (!dataTable) return;\n",
              "\n",
              "        const docLinkHtml = 'Like what you see? Visit the ' +\n",
              "          '<a target=\"_blank\" href=https://colab.research.google.com/notebooks/data_table.ipynb>data table notebook</a>'\n",
              "          + ' to learn more about interactive tables.';\n",
              "        element.innerHTML = '';\n",
              "        dataTable['output_type'] = 'display_data';\n",
              "        await google.colab.output.renderOutput(dataTable, element);\n",
              "        const docLink = document.createElement('div');\n",
              "        docLink.innerHTML = docLinkHtml;\n",
              "        element.appendChild(docLink);\n",
              "      }\n",
              "    </script>\n",
              "  </div>\n",
              "\n",
              "\n",
              "<div id=\"df-fb1d3fc9-2592-4ca0-a69a-88ecf394f8b3\">\n",
              "  <button class=\"colab-df-quickchart\" onclick=\"quickchart('df-fb1d3fc9-2592-4ca0-a69a-88ecf394f8b3')\"\n",
              "            title=\"Suggest charts\"\n",
              "            style=\"display:none;\">\n",
              "\n",
              "<svg xmlns=\"http://www.w3.org/2000/svg\" height=\"24px\"viewBox=\"0 0 24 24\"\n",
              "     width=\"24px\">\n",
              "    <g>\n",
              "        <path d=\"M19 3H5c-1.1 0-2 .9-2 2v14c0 1.1.9 2 2 2h14c1.1 0 2-.9 2-2V5c0-1.1-.9-2-2-2zM9 17H7v-7h2v7zm4 0h-2V7h2v10zm4 0h-2v-4h2v4z\"/>\n",
              "    </g>\n",
              "</svg>\n",
              "  </button>\n",
              "\n",
              "<style>\n",
              "  .colab-df-quickchart {\n",
              "      --bg-color: #E8F0FE;\n",
              "      --fill-color: #1967D2;\n",
              "      --hover-bg-color: #E2EBFA;\n",
              "      --hover-fill-color: #174EA6;\n",
              "      --disabled-fill-color: #AAA;\n",
              "      --disabled-bg-color: #DDD;\n",
              "  }\n",
              "\n",
              "  [theme=dark] .colab-df-quickchart {\n",
              "      --bg-color: #3B4455;\n",
              "      --fill-color: #D2E3FC;\n",
              "      --hover-bg-color: #434B5C;\n",
              "      --hover-fill-color: #FFFFFF;\n",
              "      --disabled-bg-color: #3B4455;\n",
              "      --disabled-fill-color: #666;\n",
              "  }\n",
              "\n",
              "  .colab-df-quickchart {\n",
              "    background-color: var(--bg-color);\n",
              "    border: none;\n",
              "    border-radius: 50%;\n",
              "    cursor: pointer;\n",
              "    display: none;\n",
              "    fill: var(--fill-color);\n",
              "    height: 32px;\n",
              "    padding: 0;\n",
              "    width: 32px;\n",
              "  }\n",
              "\n",
              "  .colab-df-quickchart:hover {\n",
              "    background-color: var(--hover-bg-color);\n",
              "    box-shadow: 0 1px 2px rgba(60, 64, 67, 0.3), 0 1px 3px 1px rgba(60, 64, 67, 0.15);\n",
              "    fill: var(--button-hover-fill-color);\n",
              "  }\n",
              "\n",
              "  .colab-df-quickchart-complete:disabled,\n",
              "  .colab-df-quickchart-complete:disabled:hover {\n",
              "    background-color: var(--disabled-bg-color);\n",
              "    fill: var(--disabled-fill-color);\n",
              "    box-shadow: none;\n",
              "  }\n",
              "\n",
              "  .colab-df-spinner {\n",
              "    border: 2px solid var(--fill-color);\n",
              "    border-color: transparent;\n",
              "    border-bottom-color: var(--fill-color);\n",
              "    animation:\n",
              "      spin 1s steps(1) infinite;\n",
              "  }\n",
              "\n",
              "  @keyframes spin {\n",
              "    0% {\n",
              "      border-color: transparent;\n",
              "      border-bottom-color: var(--fill-color);\n",
              "      border-left-color: var(--fill-color);\n",
              "    }\n",
              "    20% {\n",
              "      border-color: transparent;\n",
              "      border-left-color: var(--fill-color);\n",
              "      border-top-color: var(--fill-color);\n",
              "    }\n",
              "    30% {\n",
              "      border-color: transparent;\n",
              "      border-left-color: var(--fill-color);\n",
              "      border-top-color: var(--fill-color);\n",
              "      border-right-color: var(--fill-color);\n",
              "    }\n",
              "    40% {\n",
              "      border-color: transparent;\n",
              "      border-right-color: var(--fill-color);\n",
              "      border-top-color: var(--fill-color);\n",
              "    }\n",
              "    60% {\n",
              "      border-color: transparent;\n",
              "      border-right-color: var(--fill-color);\n",
              "    }\n",
              "    80% {\n",
              "      border-color: transparent;\n",
              "      border-right-color: var(--fill-color);\n",
              "      border-bottom-color: var(--fill-color);\n",
              "    }\n",
              "    90% {\n",
              "      border-color: transparent;\n",
              "      border-bottom-color: var(--fill-color);\n",
              "    }\n",
              "  }\n",
              "</style>\n",
              "\n",
              "  <script>\n",
              "    async function quickchart(key) {\n",
              "      const quickchartButtonEl =\n",
              "        document.querySelector('#' + key + ' button');\n",
              "      quickchartButtonEl.disabled = true;  // To prevent multiple clicks.\n",
              "      quickchartButtonEl.classList.add('colab-df-spinner');\n",
              "      try {\n",
              "        const charts = await google.colab.kernel.invokeFunction(\n",
              "            'suggestCharts', [key], {});\n",
              "      } catch (error) {\n",
              "        console.error('Error during call to suggestCharts:', error);\n",
              "      }\n",
              "      quickchartButtonEl.classList.remove('colab-df-spinner');\n",
              "      quickchartButtonEl.classList.add('colab-df-quickchart-complete');\n",
              "    }\n",
              "    (() => {\n",
              "      let quickchartButtonEl =\n",
              "        document.querySelector('#df-fb1d3fc9-2592-4ca0-a69a-88ecf394f8b3 button');\n",
              "      quickchartButtonEl.style.display =\n",
              "        google.colab.kernel.accessAllowed ? 'block' : 'none';\n",
              "    })();\n",
              "  </script>\n",
              "</div>\n",
              "\n",
              "    </div>\n",
              "  </div>\n"
            ],
            "application/vnd.google.colaboratory.intrinsic+json": {
              "type": "dataframe",
              "summary": "{\n  \"name\": \"Gym_Members_Exercise_Dataset\",\n  \"rows\": 8,\n  \"fields\": [\n    {\n      \"column\": \"Age\",\n      \"properties\": {\n        \"dtype\": \"number\",\n        \"std\": 331.9992638143134,\n        \"min\": 12.180927866987108,\n        \"max\": 973.0,\n        \"num_unique_values\": 8,\n        \"samples\": [\n          38.68345323741007,\n          40.0,\n          973.0\n        ],\n        \"semantic_type\": \"\",\n        \"description\": \"\"\n      }\n    },\n    {\n      \"column\": \"Weight (kg)\",\n      \"properties\": {\n        \"dtype\": \"number\",\n        \"std\": 321.4294680767086,\n        \"min\": 21.20750049840718,\n        \"max\": 973.0,\n        \"num_unique_values\": 8,\n        \"samples\": [\n          73.85467625899281,\n          70.0,\n          973.0\n        ],\n        \"semantic_type\": \"\",\n        \"description\": \"\"\n      }\n    },\n    {\n      \"column\": \"Height (m)\",\n      \"properties\": {\n        \"dtype\": \"number\",\n        \"std\": 343.47859876018913,\n        \"min\": 0.12771989460721703,\n        \"max\": 973.0,\n        \"num_unique_values\": 8,\n        \"samples\": [\n          1.7225796505652622,\n          1.71,\n          973.0\n        ],\n        \"semantic_type\": \"\",\n        \"description\": \"\"\n      }\n    },\n    {\n      \"column\": \"Max_BPM\",\n      \"properties\": {\n        \"dtype\": \"number\",\n        \"std\": 295.1061974835412,\n        \"min\": 11.525685962379304,\n        \"max\": 973.0,\n        \"num_unique_values\": 8,\n        \"samples\": [\n          179.88386433710176,\n          180.0,\n          973.0\n        ],\n        \"semantic_type\": \"\",\n        \"description\": \"\"\n      }\n    },\n    {\n      \"column\": \"Avg_BPM\",\n      \"properties\": {\n        \"dtype\": \"number\",\n        \"std\": 303.46721076685174,\n        \"min\": 14.345101439108843,\n        \"max\": 973.0,\n        \"num_unique_values\": 8,\n        \"samples\": [\n          143.76670092497432,\n          143.0,\n          973.0\n        ],\n        \"semantic_type\": \"\",\n        \"description\": \"\"\n      }\n    },\n    {\n      \"column\": \"Resting_BPM\",\n      \"properties\": {\n        \"dtype\": \"number\",\n        \"std\": 325.4799587540758,\n        \"min\": 7.327059908996752,\n        \"max\": 973.0,\n        \"num_unique_values\": 8,\n        \"samples\": [\n          62.223021582733814,\n          62.0,\n          973.0\n        ],\n        \"semantic_type\": \"\",\n        \"description\": \"\"\n      }\n    },\n    {\n      \"column\": \"Session_Duration (hours)\",\n      \"properties\": {\n        \"dtype\": \"number\",\n        \"std\": 343.6108861976696,\n        \"min\": 0.3430334803899634,\n        \"max\": 973.0,\n        \"num_unique_values\": 8,\n        \"samples\": [\n          1.2564234326824255,\n          1.26,\n          973.0\n        ],\n        \"semantic_type\": \"\",\n        \"description\": \"\"\n      }\n    },\n    {\n      \"column\": \"Calories_Burned\",\n      \"properties\": {\n        \"dtype\": \"number\",\n        \"std\": 476.4571555402799,\n        \"min\": 272.64151645225877,\n        \"max\": 1783.0,\n        \"num_unique_values\": 8,\n        \"samples\": [\n          905.4224049331963,\n          893.0,\n          973.0\n        ],\n        \"semantic_type\": \"\",\n        \"description\": \"\"\n      }\n    },\n    {\n      \"column\": \"Fat_Percentage\",\n      \"properties\": {\n        \"dtype\": \"number\",\n        \"std\": 336.41406276433855,\n        \"min\": 6.259418834269056,\n        \"max\": 973.0,\n        \"num_unique_values\": 8,\n        \"samples\": [\n          24.97677286742035,\n          26.2,\n          973.0\n        ],\n        \"semantic_type\": \"\",\n        \"description\": \"\"\n      }\n    },\n    {\n      \"column\": \"Water_Intake (liters)\",\n      \"properties\": {\n        \"dtype\": \"number\",\n        \"std\": 343.1841388270036,\n        \"min\": 0.6001719365613234,\n        \"max\": 973.0,\n        \"num_unique_values\": 8,\n        \"samples\": [\n          2.626618705035971,\n          2.6,\n          973.0\n        ],\n        \"semantic_type\": \"\",\n        \"description\": \"\"\n      }\n    },\n    {\n      \"column\": \"Workout_Frequency (days/week)\",\n      \"properties\": {\n        \"dtype\": \"number\",\n        \"std\": 342.93710988231015,\n        \"min\": 0.9130469699343143,\n        \"max\": 973.0,\n        \"num_unique_values\": 7,\n        \"samples\": [\n          973.0,\n          3.3216855087358685,\n          4.0\n        ],\n        \"semantic_type\": \"\",\n        \"description\": \"\"\n      }\n    },\n    {\n      \"column\": \"Experience_Level\",\n      \"properties\": {\n        \"dtype\": \"number\",\n        \"std\": 343.42489165603297,\n        \"min\": 0.7396927419551071,\n        \"max\": 973.0,\n        \"num_unique_values\": 6,\n        \"samples\": [\n          973.0,\n          1.8098663926002057,\n          3.0\n        ],\n        \"semantic_type\": \"\",\n        \"description\": \"\"\n      }\n    },\n    {\n      \"column\": \"BMI\",\n      \"properties\": {\n        \"dtype\": \"number\",\n        \"std\": 335.8375670064553,\n        \"min\": 6.660879393631086,\n        \"max\": 973.0,\n        \"num_unique_values\": 8,\n        \"samples\": [\n          24.91212744090442,\n          24.16,\n          973.0\n        ],\n        \"semantic_type\": \"\",\n        \"description\": \"\"\n      }\n    }\n  ]\n}"
            }
          },
          "metadata": {},
          "execution_count": 60
        }
      ]
    },
    {
      "cell_type": "markdown",
      "source": [
        "shows the summary statistics of the data"
      ],
      "metadata": {
        "id": "RO7smQ6lMuSU"
      }
    },
    {
      "cell_type": "markdown",
      "source": [
        "**Workout type distribution visualizations**"
      ],
      "metadata": {
        "id": "nQJI0Kyg19AM"
      }
    },
    {
      "cell_type": "code",
      "source": [
        "workout_counts = Gym_Members_Exercise_Dataset[\"Workout_Type\"].value_counts()\n",
        "\n",
        "plt.figure(figsize=(8,5))\n",
        "plt.bar(workout_counts.index, workout_counts.values, color='skyblue')\n",
        "\n",
        "plt.xlabel(\"Workout Type\")\n",
        "plt.ylabel(\"Count\")\n",
        "plt.title(\"Distribution of Workout Types\")\n",
        "\n",
        "plt.show()\n"
      ],
      "metadata": {
        "id": "auBoBpscnkQy",
        "colab": {
          "base_uri": "https://localhost:8080/",
          "height": 487
        },
        "outputId": "7fc1855a-dfea-40e5-ab39-efab9016cd7d"
      },
      "execution_count": 61,
      "outputs": [
        {
          "output_type": "display_data",
          "data": {
            "text/plain": [
              "<Figure size 800x500 with 1 Axes>"
            ],
            "image/png": "[encoded data removed]"
          },
          "metadata": {}
        }
      ]
    },
    {
      "cell_type": "code",
      "source": [
        "Gym_Members_Exercise_Dataset['Workout_Type'].value_counts()"
      ],
      "metadata": {
        "colab": {
          "base_uri": "https://localhost:8080/",
          "height": 241
        },
        "id": "zeSz2fuI1cT7",
        "outputId": "3349b94a-b5e2-4a6b-f603-bc185c6f1c1d"
      },
      "execution_count": 62,
      "outputs": [
        {
          "output_type": "execute_result",
          "data": {
            "text/plain": [
              "Workout_Type\n",
              "Strength    258\n",
              "Cardio      255\n",
              "Yoga        239\n",
              "HIIT        221\n",
              "Name: count, dtype: int64"
            ],
            "text/html": [
              "<div>\n",
              "<style scoped>\n",
              "    .dataframe tbody tr th:only-of-type {\n",
              "        vertical-align: middle;\n",
              "    }\n",
              "\n",
              "    .dataframe tbody tr th {\n",
              "        vertical-align: top;\n",
              "    }\n",
              "\n",
              "    .dataframe thead th {\n",
              "        text-align: right;\n",
              "    }\n",
              "</style>\n",
              "<table border=\"1\" class=\"dataframe\">\n",
              "  <thead>\n",
              "    <tr style=\"text-align: right;\">\n",
              "      <th></th>\n",
              "      <th>count</th>\n",
              "    </tr>\n",
              "    <tr>\n",
              "      <th>Workout_Type</th>\n",
              "      <th></th>\n",
              "    </tr>\n",
              "  </thead>\n",
              "  <tbody>\n",
              "    <tr>\n",
              "      <th>Strength</th>\n",
              "      <td>258</td>\n",
              "    </tr>\n",
              "    <tr>\n",
              "      <th>Cardio</th>\n",
              "      <td>255</td>\n",
              "    </tr>\n",
              "    <tr>\n",
              "      <th>Yoga</th>\n",
              "      <td>239</td>\n",
              "    </tr>\n",
              "    <tr>\n",
              "      <th>HIIT</th>\n",
              "      <td>221</td>\n",
              "    </tr>\n",
              "  </tbody>\n",
              "</table>\n",
              "</div><br><label><b>dtype:</b> int64</label>"
            ]
          },
          "metadata": {},
          "execution_count": 62
        }
      ]
    },
    {
      "cell_type": "markdown",
      "source": [
        "This shows how many gym members prefer each workout type. The distribution is similar with similar number of people prefering each types of workout."
      ],
      "metadata": {
        "id": "R0Iodg-QGeTG"
      }
    },
    {
      "cell_type": "markdown",
      "source": [
        "**Age distribution visualizations**"
      ],
      "metadata": {
        "id": "d53UB6942DCV"
      }
    },
    {
      "cell_type": "code",
      "source": [
        "plt.figure(figsize=(8,5))\n",
        "plt.hist(Gym_Members_Exercise_Dataset[\"Age\"], bins=30, alpha=0.7)\n",
        "plt.xlabel(\"Age\")\n",
        "plt.ylabel(\"Count\")\n",
        "plt.title(\"Age Distribution of Gym Members\")\n",
        "plt.show()"
      ],
      "metadata": {
        "colab": {
          "base_uri": "https://localhost:8080/",
          "height": 487
        },
        "id": "maWf1GmUFXul",
        "outputId": "d3e9223a-3ad6-4884-eec7-f3d164812ff8"
      },
      "execution_count": 63,
      "outputs": [
        {
          "output_type": "display_data",
          "data": {
            "text/plain": [
              "<Figure size 800x500 with 1 Axes>"
            ],
            "image/png": "[encoded data removed]"
          },
          "metadata": {}
        }
      ]
    },
    {
      "cell_type": "code",
      "source": [
        "age_stats = Gym_Members_Exercise_Dataset['Age'].describe()\n",
        "print(age_stats.round(2))"
      ],
      "metadata": {
        "colab": {
          "base_uri": "https://localhost:8080/"
        },
        "id": "EubX3KuT1xHL",
        "outputId": "bce35a39-b771-44ca-8427-460a8f671d2c"
      },
      "execution_count": 64,
      "outputs": [
        {
          "output_type": "stream",
          "name": "stdout",
          "text": [
            "count    973.00\n",
            "mean      38.68\n",
            "std       12.18\n",
            "min       18.00\n",
            "25%       28.00\n",
            "50%       40.00\n",
            "75%       49.00\n",
            "max       59.00\n",
            "Name: Age, dtype: float64\n"
          ]
        }
      ]
    },
    {
      "cell_type": "markdown",
      "source": [
        "The figure shows a histogram about the age distribution of the gym members in the dataset. The ages range from 18 to 59 with the average age being approximately 38. The histogram shows uniform distribution with slight fluctutaions and no extreme skewness."
      ],
      "metadata": {
        "id": "yd97A30P2Oma"
      }
    },
    {
      "cell_type": "markdown",
      "source": [
        "**Gender Distribution  visualizations**"
      ],
      "metadata": {
        "id": "ftbB15s053Er"
      }
    },
    {
      "cell_type": "code",
      "source": [
        "gender_counts = Gym_Members_Exercise_Dataset['Gender'].value_counts()\n",
        "plt.figure(figsize=(6, 4))\n",
        "plt.barh(gender_counts.index, gender_counts.values, color=['blue', 'pink'])\n",
        "plt.ylabel(\"Gender\")\n",
        "plt.xlabel(\"Count\")\n",
        "plt.title(\"Gender Distribution of Gym Members\")\n",
        "plt.show()"
      ],
      "metadata": {
        "id": "U1OviFLrHH0l",
        "colab": {
          "base_uri": "https://localhost:8080/",
          "height": 410
        },
        "outputId": "b2ba2274-d75e-4730-fd82-11fdfed336f2"
      },
      "execution_count": 65,
      "outputs": [
        {
          "output_type": "display_data",
          "data": {
            "text/plain": [
              "<Figure size 600x400 with 1 Axes>"
            ],
            "image/png": "[encoded data removed]"
          },
          "metadata": {}
        }
      ]
    },
    {
      "cell_type": "code",
      "source": [
        "gender_distribution = Gym_Members_Exercise_Dataset['Gender'].value_counts()\n",
        "print(gender_distribution)"
      ],
      "metadata": {
        "colab": {
          "base_uri": "https://localhost:8080/"
        },
        "id": "HV_l2QDn4MN1",
        "outputId": "d37699dc-24a5-4c09-ef72-552c43a784c1"
      },
      "execution_count": 66,
      "outputs": [
        {
          "output_type": "stream",
          "name": "stdout",
          "text": [
            "Gender\n",
            "Male      511\n",
            "Female    462\n",
            "Name: count, dtype: int64\n"
          ]
        }
      ]
    },
    {
      "cell_type": "markdown",
      "source": [
        "The above bar graph shows the data visualization of gender column in the dataset. The graph shows male gym members(511) are slightly larger in number than female gym members(462)."
      ],
      "metadata": {
        "id": "DSROLWw-5ECL"
      }
    },
    {
      "cell_type": "code",
      "source": [
        "plt.figure(figsize=(10, 6))\n",
        "sns.boxplot(x=\"Workout_Type\", y=\"Age\", data=Gym_Members_Exercise_Dataset)\n",
        "plt.title(\"Age Distribution across Workout Types\")\n",
        "plt.show()"
      ],
      "metadata": {
        "colab": {
          "base_uri": "https://localhost:8080/",
          "height": 564
        },
        "id": "s1NpEYZnzZCj",
        "outputId": "0d6f0386-0127-4f23-9708-51c9650edc82"
      },
      "execution_count": 67,
      "outputs": [
        {
          "output_type": "display_data",
          "data": {
            "text/plain": [
              "<Figure size 1000x600 with 1 Axes>"
            ],
            "image/png": "[encoded data removed]"
          },
          "metadata": {}
        }
      ]
    },
    {
      "cell_type": "code",
      "source": [
        "plt.figure(figsize=(8, 5))\n",
        "plt.hist(Gym_Members_Exercise_Dataset[\"BMI\"], bins=30, alpha=0.7)\n",
        "plt.xlabel(\"BMI\")\n",
        "plt.ylabel(\"Count\")\n",
        "plt.title(\"BMI Distribution of Gym Members\")\n",
        "plt.show()"
      ],
      "metadata": {
        "colab": {
          "base_uri": "https://localhost:8080/",
          "height": 487
        },
        "id": "8ER9-pjw632r",
        "outputId": "11d3554b-bb7b-4128-b233-8879d6179efc"
      },
      "execution_count": 68,
      "outputs": [
        {
          "output_type": "display_data",
          "data": {
            "text/plain": [
              "<Figure size 800x500 with 1 Axes>"
            ],
            "image/png": "[encoded data removed]"
          },
          "metadata": {}
        }
      ]
    },
    {
      "cell_type": "code",
      "source": [
        "bmi_stats = Gym_Members_Exercise_Dataset['BMI'].describe()\n",
        "print(bmi_stats.round(2))\n"
      ],
      "metadata": {
        "colab": {
          "base_uri": "https://localhost:8080/"
        },
        "id": "L6aNB6Sf3lra",
        "outputId": "a3c8684e-1332-413b-986a-93c97e0db4d8"
      },
      "execution_count": 69,
      "outputs": [
        {
          "output_type": "stream",
          "name": "stdout",
          "text": [
            "count    973.00\n",
            "mean      24.91\n",
            "std        6.66\n",
            "min       12.32\n",
            "25%       20.11\n",
            "50%       24.16\n",
            "75%       28.56\n",
            "max       49.84\n",
            "Name: BMI, dtype: float64\n"
          ]
        }
      ]
    },
    {
      "cell_type": "markdown",
      "source": [
        "The above graph shows the bmi distribution across gym members. The range starts from 12 to 49 with an average BMI of approximately 24."
      ],
      "metadata": {
        "id": "nveza8pK3uYb"
      }
    },
    {
      "cell_type": "markdown",
      "source": [
        "# task 2-Model from scratch"
      ],
      "metadata": {
        "id": "WpfDnrT6Xk36"
      }
    },
    {
      "cell_type": "code",
      "source": [
        "Gym_Members_Exercise_Dataset = pd.read_csv(\"/content/drive/MyDrive/Final portfolio/gym_members_exercise_tracking.csv\")\n",
        "\n",
        "\n",
        "Gym_Members_Exercise_Dataset['Gender'] = Gym_Members_Exercise_Dataset['Gender'].map({'Male': 0, 'Female': 1})\n",
        "\n",
        "Gym_Members_Exercise_Dataset = Gym_Members_Exercise_Dataset.dropna()\n",
        "\n",
        "X = Gym_Members_Exercise_Dataset[['Age', 'Gender', 'Weight (kg)', 'Height (m)',\n",
        "                                 'Max_BPM', 'Avg_BPM', 'Resting_BPM']].values\n",
        "y = Gym_Members_Exercise_Dataset['Workout_Type'].values\n",
        "\n",
        "std_devs = np.std(X, axis=0)\n",
        "X = X[:, std_devs > 0]\n",
        "\n",
        "epsilon = 1e-8\n",
        "X = (X - np.mean(X, axis=0)) / (np.std(X, axis=0) + epsilon)\n",
        "\n",
        "X = np.hstack([np.ones((X.shape[0], 1)), X])\n",
        "\n",
        "classes, y_indices = np.unique(y, return_inverse=True)\n",
        "\n",
        "\n",
        "def stratified_split(X, y, test_size=0.2, random_state=42):\n",
        "    np.random.seed(random_state)\n",
        "    train_indices = []\n",
        "    test_indices = []\n",
        "\n",
        "    for class_label in np.unique(y):\n",
        "        class_indices = np.where(y == class_label)[0]\n",
        "        np.random.shuffle(class_indices)\n",
        "        split = int(len(class_indices) * (1 - test_size))\n",
        "        train_indices.extend(class_indices[:split])\n",
        "        test_indices.extend(class_indices[split:])\n",
        "\n",
        "    return X[train_indices], X[test_indices], y[train_indices], y[test_indices]\n",
        "\n",
        "X_train, X_test, y_train, y_test = stratified_split(X, y_indices)\n",
        "\n",
        "class SilentSoftmaxRegression:\n",
        "    def __init__(self, learning_rate=0.01, num_iterations=1000):\n",
        "        self.learning_rate = learning_rate\n",
        "        self.num_iterations = num_iterations\n",
        "        self.weights = None\n",
        "\n",
        "    def _safe_softmax(self, z):\n",
        "        exp_z = np.exp(z - np.max(z, axis=1, keepdims=True))\n",
        "        return exp_z / (np.sum(exp_z, axis=1, keepdims=True) + 1e-10)\n",
        "\n",
        "    def fit(self, X, y):\n",
        "        m, n = X.shape\n",
        "        k = len(np.unique(y))\n",
        "        y_one_hot = np.eye(k)[y]\n",
        "\n",
        "        self.weights = np.random.randn(n, k) * np.sqrt(2 / (n + k))\n",
        "\n",
        "        for _ in range(self.num_iterations):\n",
        "            z = X @ self.weights\n",
        "            probabilities = self._safe_softmax(z)\n",
        "            gradient = (X.T @ (probabilities - y_one_hot)) / m\n",
        "            self.weights -= self.learning_rate * gradient\n",
        "\n",
        "    def predict(self, X):\n",
        "        z = X @ self.weights\n",
        "        return np.argmax(z, axis=1)\n",
        "\n",
        "\n",
        "model = SilentSoftmaxRegression(learning_rate=0.1, num_iterations=1000)\n",
        "model.fit(X_train, y_train)\n",
        "\n",
        "y_train_pred = model.predict(X_train)\n",
        "y_test_pred = model.predict(X_test)\n",
        "\n",
        "train_accuracy = np.mean(y_train_pred == y_train)\n",
        "test_accuracy = np.mean(y_test_pred == y_test)\n",
        "\n",
        "print(\"Training Accuracy:\", f\"{train_accuracy:.4f}\")\n",
        "print(\"Test Accuracy:\", f\"{test_accuracy:.4f}\")\n",
        "\n",
        "def classification_report(y_true, y_pred, class_names):\n",
        "    report = {}\n",
        "    for idx, cls in enumerate(class_names):\n",
        "        tp = np.sum((y_true == idx) & (y_pred == idx))\n",
        "        fp = np.sum((y_true != idx) & (y_pred == idx))\n",
        "        fn = np.sum((y_true == idx) & (y_pred != idx))\n",
        "\n",
        "        precision = tp / (tp + fp) if (tp + fp) > 0 else 0\n",
        "        recall = tp / (tp + fn) if (tp + fn) > 0 else 0\n",
        "        f1 = 2 * (precision * recall) / (precision + recall) if (precision + recall) > 0 else 0\n",
        "\n",
        "        report[cls] = {'Precision': precision, 'Recall': recall, 'F1-Score': f1}\n",
        "    return report\n",
        "\n",
        "report = classification_report(y_test, y_test_pred, classes)\n",
        "print(\"\\nClassification Report:\")\n",
        "for cls, metrics in report.items():\n",
        "    print(f\"Class: {cls}\")\n",
        "    print(f\"  Precision: {metrics['Precision']:.4f}\")\n",
        "    print(f\"  Recall:    {metrics['Recall']:.4f}\")\n",
        "    print(f\"  F1-Score:  {metrics['F1-Score']:.4f}\\n\")"
      ],
      "metadata": {
        "colab": {
          "base_uri": "https://localhost:8080/"
        },
        "id": "WopIWdRuFf67",
        "outputId": "4cdf008d-64ef-4c9d-d7f0-652b0b79ffad"
      },
      "execution_count": 70,
      "outputs": [
        {
          "output_type": "stream",
          "name": "stdout",
          "text": [
            "Training Accuracy: 0.3102\n",
            "Test Accuracy: 0.2500\n",
            "\n",
            "Classification Report:\n",
            "Class: Cardio\n",
            "  Precision: 0.2368\n",
            "  Recall:    0.3529\n",
            "  F1-Score:  0.2835\n",
            "\n",
            "Class: HIIT\n",
            "  Precision: 0.0000\n",
            "  Recall:    0.0000\n",
            "  F1-Score:  0.0000\n",
            "\n",
            "Class: Strength\n",
            "  Precision: 0.3067\n",
            "  Recall:    0.4423\n",
            "  F1-Score:  0.3622\n",
            "\n",
            "Class: Yoga\n",
            "  Precision: 0.1778\n",
            "  Recall:    0.1667\n",
            "  F1-Score:  0.1720\n",
            "\n"
          ]
        }
      ]
    },
    {
      "cell_type": "markdown",
      "source": [
        "# Task 3"
      ],
      "metadata": {
        "id": "BHMbs4_MAkoZ"
      }
    },
    {
      "cell_type": "markdown",
      "source": [
        "sklearnsoftmax\n"
      ],
      "metadata": {
        "id": "fORWwr5Fp6Bo"
      }
    },
    {
      "cell_type": "code",
      "source": [
        "from sklearn.metrics import classification_report\n",
        "# Define the features (X) and target variable (y)\n",
        "X = Gym_Members_Exercise_Dataset.drop('Workout_Type', axis=1)  # All columns except 'Workout_Type'\n",
        "y = Gym_Members_Exercise_Dataset['Workout_Type']  # This is the target\n",
        "\n",
        "# Scaling the features\n",
        "scaler = StandardScaler()\n",
        "X_train_scaled = scaler.fit_transform(X_train)\n",
        "X_test_scaled = scaler.transform(X_test)\n",
        "\n",
        "# Train the Logistic Regression model\n",
        "log_reg = LogisticRegression(solver='saga', max_iter=5000)\n",
        "log_reg.fit(X_train_scaled, y_train)\n",
        "\n",
        "# Make predictions\n",
        "y_pred_train = log_reg.predict(X_train_scaled)\n",
        "y_pred_test = log_reg.predict(X_test_scaled)\n",
        "\n",
        "# Evaluate the model\n",
        "train_accuracy = accuracy_score(y_train, y_pred_train)\n",
        "test_accuracy = accuracy_score(y_test, y_pred_test)\n",
        "\n",
        "print(f\"Train Accuracy: {train_accuracy * 100:.2f}%\")\n",
        "print(f\"Test Accuracy: {test_accuracy * 100:.2f}%\")\n",
        "print(\"Classification Report:\\n\", classification_report(y_test, y_pred_test))\n",
        "\n"
      ],
      "metadata": {
        "id": "PGmd-VS_p5jn",
        "colab": {
          "base_uri": "https://localhost:8080/"
        },
        "outputId": "dbd9d462-05a6-42e2-8c4b-f999890027a9"
      },
      "execution_count": 71,
      "outputs": [
        {
          "output_type": "stream",
          "name": "stdout",
          "text": [
            "Train Accuracy: 31.15%\n",
            "Test Accuracy: 25.51%\n",
            "Classification Report:\n",
            "               precision    recall  f1-score   support\n",
            "\n",
            "           0       0.24      0.35      0.29        51\n",
            "           1       0.00      0.00      0.00        45\n",
            "           2       0.32      0.46      0.38        52\n",
            "           3       0.18      0.17      0.17        48\n",
            "\n",
            "    accuracy                           0.26       196\n",
            "   macro avg       0.18      0.25      0.21       196\n",
            "weighted avg       0.19      0.26      0.22       196\n",
            "\n"
          ]
        },
        {
          "output_type": "stream",
          "name": "stderr",
          "text": [
            "/usr/local/lib/python3.11/dist-packages/sklearn/metrics/_classification.py:1565: UndefinedMetricWarning: Precision is ill-defined and being set to 0.0 in labels with no predicted samples. Use `zero_division` parameter to control this behavior.\n",
            "  _warn_prf(average, modifier, f\"{metric.capitalize()} is\", len(result))\n",
            "/usr/local/lib/python3.11/dist-packages/sklearn/metrics/_classification.py:1565: UndefinedMetricWarning: Precision is ill-defined and being set to 0.0 in labels with no predicted samples. Use `zero_division` parameter to control this behavior.\n",
            "  _warn_prf(average, modifier, f\"{metric.capitalize()} is\", len(result))\n",
            "/usr/local/lib/python3.11/dist-packages/sklearn/metrics/_classification.py:1565: UndefinedMetricWarning: Precision is ill-defined and being set to 0.0 in labels with no predicted samples. Use `zero_division` parameter to control this behavior.\n",
            "  _warn_prf(average, modifier, f\"{metric.capitalize()} is\", len(result))\n"
          ]
        }
      ]
    },
    {
      "cell_type": "markdown",
      "source": [
        "Decision tree"
      ],
      "metadata": {
        "id": "H-sZxZsxAuAp"
      }
    },
    {
      "cell_type": "code",
      "source": [
        "\n",
        "\n",
        "\n",
        "X = Gym_Members_Exercise_Dataset.drop(columns=['Workout_Type'])\n",
        "\n",
        "\n",
        "le = LabelEncoder()\n",
        "y = le.fit_transform(Gym_Members_Exercise_Dataset['Workout_Type'])\n",
        "\n",
        "\n",
        "X['Gender'] = le.fit_transform(X['Gender'])\n",
        "\n",
        "\n",
        "X_train, X_test, y_train, y_test = train_test_split(X, y, test_size=0.2, random_state=42)\n",
        "\n",
        "\n",
        "dt_model = DecisionTreeClassifier(random_state=42)\n",
        "dt_model.fit(X_train, y_train)\n",
        "\n",
        "\n",
        "y_test_pred = dt_model.predict(X_test)\n",
        "\n",
        "\n",
        "test_accuracy = accuracy_score(y_test, y_test_pred)\n",
        "print(f\"Test Accuracy: {test_accuracy:.4f}\")\n",
        "print(\"\\nClassification Report on Test Set:\")\n",
        "print(classification_report(y_test, y_test_pred))\n"
      ],
      "metadata": {
        "id": "qHyMK-XTKuXR",
        "colab": {
          "base_uri": "https://localhost:8080/"
        },
        "outputId": "17c24101-d369-4d85-c4ea-b72390d7479a"
      },
      "execution_count": 72,
      "outputs": [
        {
          "output_type": "stream",
          "name": "stdout",
          "text": [
            "Test Accuracy: 0.2359\n",
            "\n",
            "Classification Report on Test Set:\n",
            "              precision    recall  f1-score   support\n",
            "\n",
            "           0       0.22      0.24      0.23        46\n",
            "           1       0.29      0.31      0.30        42\n",
            "           2       0.20      0.26      0.23        47\n",
            "           3       0.25      0.17      0.20        60\n",
            "\n",
            "    accuracy                           0.24       195\n",
            "   macro avg       0.24      0.24      0.24       195\n",
            "weighted avg       0.24      0.24      0.23       195\n",
            "\n"
          ]
        }
      ]
    },
    {
      "cell_type": "markdown",
      "source": [
        "Softmax is better as it gives better accuracy"
      ],
      "metadata": {
        "id": "V0pbc9TrUq86"
      }
    },
    {
      "cell_type": "markdown",
      "source": [
        "# Task 4"
      ],
      "metadata": {
        "id": "1T6eQNnGAw8x"
      }
    },
    {
      "cell_type": "markdown",
      "source": [
        "list of hyper parameters used in logistic regression"
      ],
      "metadata": {
        "id": "p4Cr7ZWHgmAA"
      }
    },
    {
      "cell_type": "code",
      "source": [
        "print(list(log_reg.get_params().keys()))\n"
      ],
      "metadata": {
        "id": "QDjA0UimgjmQ",
        "colab": {
          "base_uri": "https://localhost:8080/"
        },
        "outputId": "37694ee9-6f69-4c89-a9ec-ed0b95645d76"
      },
      "execution_count": 73,
      "outputs": [
        {
          "output_type": "stream",
          "name": "stdout",
          "text": [
            "['C', 'class_weight', 'dual', 'fit_intercept', 'intercept_scaling', 'l1_ratio', 'max_iter', 'multi_class', 'n_jobs', 'penalty', 'random_state', 'solver', 'tol', 'verbose', 'warm_start']\n"
          ]
        }
      ]
    },
    {
      "cell_type": "markdown",
      "source": [
        "Best hyperparameters for logistic regression"
      ],
      "metadata": {
        "id": "8v-R-wRsg3tn"
      }
    },
    {
      "cell_type": "code",
      "source": [
        "\n",
        "\n",
        "\n",
        "param_grid = [\n",
        "    {\n",
        "        'solver': ['saga'],\n",
        "        'penalty': ['l1', 'l2'],\n",
        "        'C': [0.001, 0.01, 0.1, 1, 10, 100],\n",
        "        'class_weight': [None, 'balanced']\n",
        "    },\n",
        "    {\n",
        "        'solver': ['lbfgs'],\n",
        "        'penalty': ['l2'],\n",
        "        'C': [0.001, 0.01, 0.1, 1, 10, 100],\n",
        "        'class_weight': [None]\n",
        "    }\n",
        "]\n",
        "\n",
        "# Scaling the features\n",
        "scaler = StandardScaler()\n",
        "X_train_scaled = scaler.fit_transform(X_train)\n",
        "X_test_scaled = scaler.transform(X_test)\n",
        "\n",
        "# Initialize the Logistic Regression model\n",
        "log_reg = LogisticRegression(max_iter=5000, random_state=42)\n",
        "\n",
        "# Perform Grid Search with 5-fold cross-validation\n",
        "grid_search = GridSearchCV(\n",
        "    estimator=log_reg,\n",
        "    param_grid=param_grid,\n",
        "    cv=5,  # 5-fold cross-validation\n",
        "    scoring='accuracy',\n",
        "    n_jobs=-1,\n",
        "    error_score='raise'\n",
        ")\n",
        "\n",
        "# Fit the grid search to the data\n",
        "grid_search.fit(X_train_scaled, y_train)\n",
        "\n",
        "# Output the best hyperparameters\n",
        "best_params = grid_search.best_params_\n",
        "print(\"Optimal Logistic Regression Hyperparameters:\")\n",
        "for k, v in best_params.items():\n",
        "    print(f\"{k}: {v}\")\n"
      ],
      "metadata": {
        "id": "BCUFU7dJQURV",
        "colab": {
          "base_uri": "https://localhost:8080/"
        },
        "outputId": "fc0af0a1-6f7c-4778-a97d-9d180ecfd4cb"
      },
      "execution_count": 74,
      "outputs": [
        {
          "output_type": "stream",
          "name": "stdout",
          "text": [
            "Optimal Logistic Regression Hyperparameters:\n",
            "C: 0.01\n",
            "class_weight: None\n",
            "penalty: l1\n",
            "solver: saga\n"
          ]
        }
      ]
    },
    {
      "cell_type": "markdown",
      "source": [
        "list of hyperparameters for decision tree"
      ],
      "metadata": {
        "id": "giPQtJjlg_kv"
      }
    },
    {
      "cell_type": "code",
      "source": [
        "print(list(dt_model.get_params().keys()))\n"
      ],
      "metadata": {
        "id": "bBOii7tgg9zI",
        "colab": {
          "base_uri": "https://localhost:8080/"
        },
        "outputId": "0d94305f-7494-4e22-ab3e-ba86ceb65a3b"
      },
      "execution_count": 75,
      "outputs": [
        {
          "output_type": "stream",
          "name": "stdout",
          "text": [
            "['ccp_alpha', 'class_weight', 'criterion', 'max_depth', 'max_features', 'max_leaf_nodes', 'min_impurity_decrease', 'min_samples_leaf', 'min_samples_split', 'min_weight_fraction_leaf', 'monotonic_cst', 'random_state', 'splitter']\n"
          ]
        }
      ]
    },
    {
      "cell_type": "markdown",
      "source": [
        "Best hyper parameters for decision tree"
      ],
      "metadata": {
        "id": "6NOPnvtZhCyv"
      }
    },
    {
      "cell_type": "code",
      "source": [
        "\n",
        "\n",
        "dt_clf = DecisionTreeClassifier(random_state=42)\n",
        "\n",
        "\n",
        "param_dist_dt = {\n",
        "    'max_depth': [3, 5, 7, 10, 15, None],\n",
        "    'min_samples_split': [2, 5, 10, 15, 20],\n",
        "    'min_samples_leaf': [1, 2, 4, 6],\n",
        "    'max_features': ['sqrt', 'log2', None],\n",
        "    'criterion': ['gini', 'entropy'],\n",
        "    'max_leaf_nodes': [None, 10, 20, 30]\n",
        "}\n",
        "\n",
        "\n",
        "random_search_dt = RandomizedSearchCV(dt_clf, param_dist_dt, n_iter=100, cv=5, scoring='accuracy', n_jobs=-1, random_state=42)\n",
        "random_search_dt.fit(X_train, y_train)\n",
        "\n",
        "\n",
        "best_params_random_dt = random_search_dt.best_params_\n",
        "\n",
        "print(\"Best Decision Tree Hyperparameters from RandomizedSearchCV:\")\n",
        "for param, value in best_params_random_dt.items():\n",
        "    print(f\"{param}: {value}\")\n"
      ],
      "metadata": {
        "id": "bXlctEILBznx",
        "colab": {
          "base_uri": "https://localhost:8080/"
        },
        "outputId": "91b51486-f26d-40c6-e8c2-18cb71083858"
      },
      "execution_count": 76,
      "outputs": [
        {
          "output_type": "stream",
          "name": "stdout",
          "text": [
            "Best Decision Tree Hyperparameters from RandomizedSearchCV:\n",
            "min_samples_split: 5\n",
            "min_samples_leaf: 1\n",
            "max_leaf_nodes: 30\n",
            "max_features: sqrt\n",
            "max_depth: 10\n",
            "criterion: gini\n"
          ]
        }
      ]
    },
    {
      "cell_type": "markdown",
      "source": [
        "# Task 5 (classification)"
      ],
      "metadata": {
        "id": "vcZrc3PMhIMf"
      }
    },
    {
      "cell_type": "markdown",
      "source": [
        "feature selection (softmax)"
      ],
      "metadata": {
        "id": "Kl6-Xycwzunp"
      }
    },
    {
      "cell_type": "code",
      "source": [
        "\n",
        "\n",
        "\n",
        "\n",
        "selected_features_dt = ['Gender', 'Height (m)', 'Max_BPM', 'Avg_BPM', 'Resting_BPM', 'Session_Duration (hours)']\n",
        "X = Gym_Members_Exercise_Dataset[selected_features_dt].copy()\n",
        "y = Gym_Members_Exercise_Dataset['Workout_Type']\n",
        "\n",
        "\n",
        "le = LabelEncoder()\n",
        "X['Gender'] = le.fit_transform(X['Gender'])\n",
        "\n",
        "\n",
        "X_train, X_test, y_train, y_test = train_test_split(X, y, test_size=0.2, random_state=42)\n",
        "\n",
        "imputer = SimpleImputer(strategy='mean')\n",
        "X_train_imputed = imputer.fit_transform(X_train)\n",
        "X_test_imputed = imputer.transform(X_test)\n",
        "\n",
        "\n",
        "X_train_df = pd.DataFrame(X_train_imputed, columns=selected_features_dt)\n",
        "X_test_df = pd.DataFrame(X_test_imputed, columns=selected_features_dt)\n",
        "\n",
        "\n",
        "selector = SelectKBest(score_func=f_classif, k=4)\n",
        "X_train_selected = selector.fit_transform(X_train_df, y_train)\n",
        "X_test_selected = selector.transform(X_test_df)\n",
        "\n",
        "\n",
        "selected_features = X_train_df.columns[selector.get_support()]\n",
        "print(\"Selected Features for Softmax Model:\", list(selected_features))\n"
      ],
      "metadata": {
        "id": "gptkcdR_S1Ph",
        "colab": {
          "base_uri": "https://localhost:8080/"
        },
        "outputId": "ae4cb566-7d72-4c28-fd6d-8dd2f96e6b9f"
      },
      "execution_count": 77,
      "outputs": [
        {
          "output_type": "stream",
          "name": "stdout",
          "text": [
            "Selected Features for Softmax Model: ['Height (m)', 'Max_BPM', 'Resting_BPM', 'Session_Duration (hours)']\n"
          ]
        }
      ]
    },
    {
      "cell_type": "markdown",
      "source": [
        "feature selection (decison tree)"
      ],
      "metadata": {
        "id": "rH2_sldDEZew"
      }
    },
    {
      "cell_type": "code",
      "source": [
        "from sklearn.tree import DecisionTreeClassifier\n",
        "\n",
        "dt_model = DecisionTreeClassifier(\n",
        "    max_depth=5,\n",
        "    min_samples_split=10,\n",
        "    min_samples_leaf=4,\n",
        "    random_state=42\n",
        ")\n",
        "dt_model.fit(X_train, y_train)\n",
        "\n",
        "importances = dt_model.feature_importances_\n",
        "\n",
        "feature_names = Gym_Members_Exercise_Dataset.columns.tolist()\n",
        "threshold = 0.05\n",
        "selected_features_dt = [\n",
        "    feature for feature, importance\n",
        "    in zip(feature_names, importances)\n",
        "    if importance > threshold\n",
        "]\n",
        "\n",
        "print(\"Selected Features (Embedded):\", selected_features_dt)"
      ],
      "metadata": {
        "id": "8u8lkb_bTnCz",
        "colab": {
          "base_uri": "https://localhost:8080/"
        },
        "outputId": "915848c8-332b-4fd6-dcd7-a2f7f69e41c6"
      },
      "execution_count": 78,
      "outputs": [
        {
          "output_type": "stream",
          "name": "stdout",
          "text": [
            "Selected Features (Embedded): ['Gender', 'Weight (kg)', 'Height (m)', 'Max_BPM', 'Avg_BPM']\n"
          ]
        }
      ]
    },
    {
      "cell_type": "markdown",
      "source": [
        "# Task 6(classification)"
      ],
      "metadata": {
        "id": "Z1dRRvaihSPP"
      }
    },
    {
      "cell_type": "code",
      "source": [
        "\n",
        "\n",
        "selected_features_dt = [\n",
        "    'Age',\n",
        "    'Gender',\n",
        "    'Weight (kg)',\n",
        "    'Height (m)',\n",
        "    'Max_BPM'\n",
        "]\n",
        "\n",
        "X = Gym_Members_Exercise_Dataset[selected_features_dt]\n",
        "y = Gym_Members_Exercise_Dataset['Workout_Type']\n",
        "\n",
        "\n",
        "le = LabelEncoder()\n",
        "X.loc[:, 'Gender'] = le.fit_transform(X['Gender'])\n",
        "\n",
        "X_train, X_test, y_train, y_test = train_test_split(X, y, test_size=0.2, random_state=42)\n",
        "\n",
        "dt_model = DecisionTreeClassifier(\n",
        "    max_depth=10,\n",
        "    min_samples_split=10,\n",
        "    min_samples_leaf=4,\n",
        "    max_leaf_nodes=None,\n",
        "    max_features='log2',\n",
        "    criterion='entropy',\n",
        "    random_state=42\n",
        ")\n",
        "dt_model.fit(X_train, y_train)\n",
        "\n",
        "\n",
        "y_pred = dt_model.predict(X_test)\n",
        "\n",
        "\n",
        "print(\"Final Decision Tree Performance\")\n",
        "print(\"===============================\")\n",
        "print(f\"Test Accuracy: {accuracy_score(y_test, y_pred):.4f}\")\n",
        "print(\"\\nClassification Report:\")\n",
        "print(classification_report(y_test, y_pred))\n",
        "\n",
        "\n"
      ],
      "metadata": {
        "id": "ff7Qzj0hUZ2O",
        "colab": {
          "base_uri": "https://localhost:8080/"
        },
        "outputId": "6b4ae429-fe9f-46bb-aa9c-b1d13c9c48eb"
      },
      "execution_count": 79,
      "outputs": [
        {
          "output_type": "stream",
          "name": "stdout",
          "text": [
            "Final Decision Tree Performance\n",
            "===============================\n",
            "Test Accuracy: 0.2974\n",
            "\n",
            "Classification Report:\n",
            "              precision    recall  f1-score   support\n",
            "\n",
            "      Cardio       0.24      0.20      0.21        46\n",
            "        HIIT       0.36      0.21      0.27        42\n",
            "    Strength       0.29      0.26      0.27        47\n",
            "        Yoga       0.31      0.47      0.37        60\n",
            "\n",
            "    accuracy                           0.30       195\n",
            "   macro avg       0.30      0.28      0.28       195\n",
            "weighted avg       0.30      0.30      0.29       195\n",
            "\n"
          ]
        }
      ]
    },
    {
      "cell_type": "markdown",
      "source": [
        "In this experiment, we evaluated two machine learning models: Logistic Regression and Decision Tree Classifier, to classify workout types based on gym member data.\n",
        "\n",
        "The Logistic Regression model achieved a train accuracy of 33.16% and a test accuracy of 27.18%. The performance varied across different classes, with some categories showing higher recall than others. On the other hand, the Decision Tree model had a lower test accuracy of 23.59%, with uneven precision and recall values for the different workout types.\n",
        "\n",
        "The application of cross-validation and hyperparameter tuning improved the reliability of the results, helping reduce overfitting and providing a more stable estimate of the model's performance. However, feature selection had a limited impact on improving model accuracy in this experiment.\n",
        "\n",
        "Reflecting on the experiment, it became clear that both models struggled with the multi-class classification problem and the class imbalance within the data. For future work, exploring more advanced models, such as Random Forest or Gradient Boosting, might offer better performance. Additionally, experimenting with techniques to address class imbalance and more sophisticated feature engineering could improve the results."
      ],
      "metadata": {
        "id": "lOYg52bVVxJS"
      }
    },
    {
      "cell_type": "markdown",
      "source": [],
      "metadata": {
        "id": "tlhgWyJahuXn"
      }
    },
    {
      "cell_type": "markdown",
      "source": [
        "# Regression Task"
      ],
      "metadata": {
        "id": "ei24gs4RA8Lh"
      }
    },
    {
      "cell_type": "markdown",
      "source": [
        "linear regression from scratch"
      ],
      "metadata": {
        "id": "FDClON3qbvtO"
      }
    },
    {
      "cell_type": "code",
      "source": [
        "features = ['Age', 'Gender', 'Weight (kg)', 'Height (m)', 'Max_BPM', 'Avg_BPM', 'Resting_BPM',\n",
        "            'Session_Duration (hours)', 'Calories_Burned', 'Workout_Type',\n",
        "            'Fat_Percentage', 'Water_Intake (liters)',\n",
        "            'Workout_Frequency (days/week)', 'Experience_Level']\n",
        "X = Gym_Members_Exercise_Dataset[features]\n",
        "y = Gym_Members_Exercise_Dataset['BMI']\n",
        "\n",
        "\n",
        "X = pd.get_dummies(X, columns=['Gender', 'Workout_Type', 'Experience_Level'], drop_first=True)\n",
        "\n",
        "\n",
        "X = X.astype(float)\n",
        "\n",
        "X = np.c_[np.ones(X.shape[0], dtype=float), X]\n",
        "\n",
        "\n",
        "def train_test_split_manual(X, y, test_size=0.2, random_state=42):\n",
        "    np.random.seed(random_state)\n",
        "    num_samples = X.shape[0]\n",
        "    num_test_samples = int(test_size * num_samples)\n",
        "    test_indices = np.random.choice(num_samples, size=num_test_samples, replace=False)\n",
        "    train_indices = np.setdiff1d(np.arange(num_samples), test_indices)\n",
        "    X_train, X_test = X[train_indices], X[test_indices]\n",
        "    y_train, y_test = y[train_indices], y[test_indices]\n",
        "    return X_train, X_test, y_train, y_test\n",
        "\n",
        "X_train, X_test, y_train, y_test = train_test_split_manual(X, y, test_size=0.2, random_state=42)\n",
        "\n",
        "class LinearRegression:\n",
        "    def __init__(self):\n",
        "        self.weights = None\n",
        "\n",
        "    def fit(self, X, y):\n",
        "        X_transpose = X.T\n",
        "        self.weights = np.linalg.solve(X_transpose @ X, X_transpose @ y)\n",
        "\n",
        "    def predict(self, X):\n",
        "        return X @ self.weights\n",
        "\n",
        "# Create and train the model\n",
        "model = LinearRegression()\n",
        "model.fit(X_train, y_train)\n",
        "\n",
        "y_pred = model.predict(X_test)\n",
        "y_train_pred = model.predict(X_train)  # Predictions for train set\n",
        "\n",
        "def mean_squared_error(y_true, y_pred):\n",
        "    return np.mean((y_true - y_pred)**2)\n",
        "\n",
        "def r_squared(y_true, y_pred):\n",
        "    y_mean = np.mean(y_true)\n",
        "    SS_total = np.sum((y_true - y_mean)**2)\n",
        "    SS_residual = np.sum((y_true - y_pred)**2)\n",
        "    return 1 - (SS_residual / SS_total)\n",
        "\n",
        "mse = mean_squared_error(y_test, y_pred)\n",
        "r2 = r_squared(y_test, y_pred)\n",
        "print(\"Test Set Mean Squared Error:\", mse)\n",
        "print(\"Test Set R-squared:\", r2)\n",
        "\n",
        "train_mse = mean_squared_error(y_train, y_train_pred)\n",
        "train_r2 = r_squared(y_train, y_train_pred)\n",
        "print(\"Train Set Mean Squared Error:\", train_mse)\n",
        "print(\"Train Set R-squared:\", train_r2)"
      ],
      "metadata": {
        "id": "xl-WWEE5bqt-",
        "colab": {
          "base_uri": "https://localhost:8080/"
        },
        "outputId": "9ec6f0c7-248d-4ded-c155-368133b99a3a"
      },
      "execution_count": 80,
      "outputs": [
        {
          "output_type": "stream",
          "name": "stdout",
          "text": [
            "Test Set Mean Squared Error: 0.628535626361749\n",
            "Test Set R-squared: 0.9871630764212181\n",
            "Train Set Mean Squared Error: 0.6714179065060649\n",
            "Train Set R-squared: 0.984396141859421\n"
          ]
        }
      ]
    },
    {
      "cell_type": "markdown",
      "source": [
        "Task 3"
      ],
      "metadata": {
        "id": "12EifgjNb8pS"
      }
    },
    {
      "cell_type": "markdown",
      "source": [
        "decision tree regression\n"
      ],
      "metadata": {
        "id": "RiAf5ksvb9__"
      }
    },
    {
      "cell_type": "code",
      "source": [
        "features = ['Age', 'Gender', 'Weight (kg)', 'Height (m)', 'Max_BPM', 'Avg_BPM', 'Resting_BPM']\n",
        "X = Gym_Members_Exercise_Dataset[features]\n",
        "y = Gym_Members_Exercise_Dataset['BMI']\n",
        "\n",
        "\n",
        "X = pd.get_dummies(X, columns=['Gender'], drop_first=True)\n",
        "\n",
        "X_train, X_test, y_train, y_test = train_test_split(X, y, test_size=0.2, random_state=42)\n",
        "\n",
        "model = DecisionTreeRegressor(random_state=42)\n",
        "model.fit(X_train, y_train)\n",
        "\n",
        "y_pred = model.predict(X_test)\n",
        "\n",
        "\n",
        "mae = mean_absolute_error(y_test, y_pred)\n",
        "rmse = np.sqrt(mean_squared_error(y_test, y_pred))\n",
        "r2 = r2_score(y_test, y_pred)\n",
        "\n",
        "print(\"Decision Tree Regressor Model:\")\n",
        "print(\"Mean Absolute Error:\", mae)\n",
        "print(\"Root Mean Squared Error:\", rmse)\n",
        "print(\"R-squared:\", r2)"
      ],
      "metadata": {
        "id": "GeLJBufKb4U7",
        "colab": {
          "base_uri": "https://localhost:8080/"
        },
        "outputId": "d94a173c-ba7b-43ae-e33c-08be3dc2caa0"
      },
      "execution_count": 81,
      "outputs": [
        {
          "output_type": "stream",
          "name": "stdout",
          "text": [
            "Decision Tree Regressor Model:\n",
            "Mean Absolute Error: 0.6690256410256412\n",
            "Root Mean Squared Error: 0.969001071683142\n",
            "R-squared: 0.980731907607149\n"
          ]
        }
      ]
    },
    {
      "cell_type": "markdown",
      "source": [
        "random forest regressor"
      ],
      "metadata": {
        "id": "juNKN06LcHAQ"
      }
    },
    {
      "cell_type": "code",
      "source": [
        "\n",
        "model = RandomForestRegressor(random_state=42)\n",
        "model.fit(X_train, y_train)\n",
        "\n",
        "y_pred = model.predict(X_test)\n",
        "\n",
        "mae = mean_absolute_error(y_test, y_pred)\n",
        "rmse = np.sqrt(mean_squared_error(y_test, y_pred))\n",
        "r2 = r2_score(y_test, y_pred)\n",
        "\n",
        "print(\"Random Forest Regressor Model:\")\n",
        "print(\"Mean Absolute Error:\", mae)\n",
        "print(\"Root Mean Squared Error:\", rmse)\n",
        "print(\"R-squared:\", r2)"
      ],
      "metadata": {
        "id": "SpAwuBnZcBvf",
        "colab": {
          "base_uri": "https://localhost:8080/"
        },
        "outputId": "7de7dc04-d509-44be-f146-4968e0912b06"
      },
      "execution_count": 82,
      "outputs": [
        {
          "output_type": "stream",
          "name": "stdout",
          "text": [
            "Random Forest Regressor Model:\n",
            "Mean Absolute Error: 0.4498071794871807\n",
            "Root Mean Squared Error: 0.6999950404219925\n",
            "R-squared: 0.9899450449982985\n"
          ]
        }
      ]
    },
    {
      "cell_type": "markdown",
      "source": [
        "Random forest regressor is better"
      ],
      "metadata": {
        "id": "LLpPUlWocPpo"
      }
    },
    {
      "cell_type": "markdown",
      "source": [
        "# Task 4 (regression)"
      ],
      "metadata": {
        "id": "3oATfyTvsend"
      }
    },
    {
      "cell_type": "code",
      "source": [
        "print(\"Hyperparameters of the Decision Tree Regressor Model:\", model.get_params())\n"
      ],
      "metadata": {
        "id": "1Infl_9Wsa7t",
        "colab": {
          "base_uri": "https://localhost:8080/"
        },
        "outputId": "703b816b-f288-49d9-9f47-6c3b6926fd98"
      },
      "execution_count": 83,
      "outputs": [
        {
          "output_type": "stream",
          "name": "stdout",
          "text": [
            "Hyperparameters of the Decision Tree Regressor Model: {'bootstrap': True, 'ccp_alpha': 0.0, 'criterion': 'squared_error', 'max_depth': None, 'max_features': 1.0, 'max_leaf_nodes': None, 'max_samples': None, 'min_impurity_decrease': 0.0, 'min_samples_leaf': 1, 'min_samples_split': 2, 'min_weight_fraction_leaf': 0.0, 'monotonic_cst': None, 'n_estimators': 100, 'n_jobs': None, 'oob_score': False, 'random_state': 42, 'verbose': 0, 'warm_start': False}\n"
          ]
        }
      ]
    },
    {
      "cell_type": "markdown",
      "source": [
        "hyperparameter tuning for decision tree"
      ],
      "metadata": {
        "id": "sMWyvGKycXcW"
      }
    },
    {
      "cell_type": "code",
      "source": [
        "\n",
        "dt_param_grid = {\n",
        "    'max_depth': [None, 5, 10, 20],\n",
        "    'min_samples_split': [2, 5, 10],\n",
        "    'min_samples_leaf': [1, 2, 4],\n",
        "    'max_features': ['sqrt', 'log2', None]\n",
        "}\n",
        "\n",
        "\n",
        "dt_model = DecisionTreeRegressor(random_state=42)\n",
        "dt_search = GridSearchCV(\n",
        "    estimator=dt_model,\n",
        "    param_grid=dt_param_grid,\n",
        "    cv=5,\n",
        "    scoring='neg_mean_squared_error',\n",
        "    n_jobs=-1\n",
        ")\n",
        "\n",
        "dt_search.fit(X_train, y_train)\n",
        "\n",
        "\n",
        "best_dt_params = dt_search.best_params_\n",
        "print(\"Best Decision Tree Hyperparameters:\", best_dt_params)"
      ],
      "metadata": {
        "id": "s2gnmBefcLpf",
        "colab": {
          "base_uri": "https://localhost:8080/"
        },
        "outputId": "67552589-222c-4cfd-efaf-d8f1c347a180"
      },
      "execution_count": 84,
      "outputs": [
        {
          "output_type": "stream",
          "name": "stdout",
          "text": [
            "Best Decision Tree Hyperparameters: {'max_depth': None, 'max_features': None, 'min_samples_leaf': 2, 'min_samples_split': 2}\n"
          ]
        }
      ]
    },
    {
      "cell_type": "markdown",
      "source": [
        "hyperparameter for random forest"
      ],
      "metadata": {
        "id": "7ZiYPQNkcZBm"
      }
    },
    {
      "cell_type": "code",
      "source": [
        "print(\"Hyperparameters of the Random Forest Regressor Model:\", model.get_params())\n"
      ],
      "metadata": {
        "id": "QLjL-wumsoCt",
        "colab": {
          "base_uri": "https://localhost:8080/"
        },
        "outputId": "d1105fa9-67b2-42ea-801e-e9f90417be1f"
      },
      "execution_count": 85,
      "outputs": [
        {
          "output_type": "stream",
          "name": "stdout",
          "text": [
            "Hyperparameters of the Random Forest Regressor Model: {'bootstrap': True, 'ccp_alpha': 0.0, 'criterion': 'squared_error', 'max_depth': None, 'max_features': 1.0, 'max_leaf_nodes': None, 'max_samples': None, 'min_impurity_decrease': 0.0, 'min_samples_leaf': 1, 'min_samples_split': 2, 'min_weight_fraction_leaf': 0.0, 'monotonic_cst': None, 'n_estimators': 100, 'n_jobs': None, 'oob_score': False, 'random_state': 42, 'verbose': 0, 'warm_start': False}\n"
          ]
        }
      ]
    },
    {
      "cell_type": "code",
      "source": [
        "\n",
        "rf_param_grid = {\n",
        "    'n_estimators': [50, 100, 200],\n",
        "    'max_depth': [None, 10, 20, 30],\n",
        "    'min_samples_split': [2, 5, 10],\n",
        "    'min_samples_leaf': [1, 2, 4],\n",
        "     'max_features': ['sqrt', 'log2'],\n",
        "    'bootstrap': [True, False]\n",
        "}\n",
        "\n",
        "rf_model = RandomForestRegressor(random_state=42)\n",
        "\n",
        "rf_search = RandomizedSearchCV(\n",
        "    estimator=rf_model,\n",
        "    param_distributions=rf_param_grid,\n",
        "    n_iter=50,\n",
        "    cv=5,\n",
        "    scoring='neg_mean_squared_error',\n",
        "    n_jobs=-1,\n",
        "    random_state=42\n",
        ")\n",
        "\n",
        "rf_search.fit(X_train, y_train)\n",
        "\n",
        "best_rf_params = rf_search.best_params_\n",
        "print(\"Best Random Forest Hyperparameters:\", best_rf_params)"
      ],
      "metadata": {
        "id": "ZqOwE8pTcUBJ",
        "colab": {
          "base_uri": "https://localhost:8080/"
        },
        "outputId": "82e9c982-75b9-44b2-bf46-865b7f5bf1fb"
      },
      "execution_count": 86,
      "outputs": [
        {
          "output_type": "stream",
          "name": "stdout",
          "text": [
            "Best Random Forest Hyperparameters: {'n_estimators': 100, 'min_samples_split': 2, 'min_samples_leaf': 1, 'max_features': 'sqrt', 'max_depth': 20, 'bootstrap': False}\n"
          ]
        }
      ]
    },
    {
      "cell_type": "markdown",
      "source": [
        "feature selection(decision tree)"
      ],
      "metadata": {
        "id": "KRVgS8aqcfwW"
      }
    },
    {
      "cell_type": "code",
      "source": [
        "dt_model = DecisionTreeRegressor(random_state=42)\n",
        "dt_model.fit(X_train, y_train)\n",
        "\n",
        "dt_feature_importances = pd.Series(dt_model.feature_importances_, index=X.columns)\n",
        "dt_feature_importances = dt_feature_importances.sort_values(ascending=False)\n",
        "\n",
        "print(\"\\nDecision Tree Feature Importances:\")\n",
        "print(dt_feature_importances)\n",
        "N = 5\n",
        "dt_top_features = dt_feature_importances.nlargest(N).index.tolist()\n",
        "print(\"\\nDecision Tree Selected Features:\", dt_top_features)"
      ],
      "metadata": {
        "id": "M_wi4NaOcd8x",
        "colab": {
          "base_uri": "https://localhost:8080/"
        },
        "outputId": "b16449ba-4d78-4352-c032-2e6afa18e1a7"
      },
      "execution_count": 87,
      "outputs": [
        {
          "output_type": "stream",
          "name": "stdout",
          "text": [
            "\n",
            "Decision Tree Feature Importances:\n",
            "Weight (kg)    0.778119\n",
            "Height (m)     0.218420\n",
            "Age            0.001059\n",
            "Resting_BPM    0.000952\n",
            "Max_BPM        0.000853\n",
            "Avg_BPM        0.000488\n",
            "Gender_1       0.000108\n",
            "dtype: float64\n",
            "\n",
            "Decision Tree Selected Features: ['Weight (kg)', 'Height (m)', 'Age', 'Resting_BPM', 'Max_BPM']\n"
          ]
        }
      ]
    },
    {
      "cell_type": "markdown",
      "source": [
        "feature selection random forest\n"
      ],
      "metadata": {
        "id": "0xuVhNaMdmiG"
      }
    },
    {
      "cell_type": "code",
      "source": [
        "rf_model = RandomForestRegressor(random_state=42)\n",
        "rf_model.fit(X_train, y_train)\n",
        "\n",
        "feature_importances = pd.Series(rf_model.feature_importances_, index=X.columns)\n",
        "feature_importances = feature_importances.sort_values(ascending=False)\n",
        "\n",
        "print(\"Feature Importances (Numerical):\")\n",
        "print(feature_importances)\n",
        "\n",
        "top_features = feature_importances.nlargest(N).index.tolist()\n",
        "print(\"\\nSelected Features:\", top_features)\n"
      ],
      "metadata": {
        "id": "U1rab0-Kdl-3",
        "colab": {
          "base_uri": "https://localhost:8080/"
        },
        "outputId": "23dd9e5b-7051-4b7c-f815-f8b0178c7d1c"
      },
      "execution_count": 88,
      "outputs": [
        {
          "output_type": "stream",
          "name": "stdout",
          "text": [
            "Feature Importances (Numerical):\n",
            "Weight (kg)    0.781389\n",
            "Height (m)     0.212695\n",
            "Age            0.001543\n",
            "Avg_BPM        0.001486\n",
            "Max_BPM        0.001410\n",
            "Resting_BPM    0.001365\n",
            "Gender_1       0.000112\n",
            "dtype: float64\n",
            "\n",
            "Selected Features: ['Weight (kg)', 'Height (m)', 'Age', 'Avg_BPM', 'Max_BPM']\n"
          ]
        }
      ]
    },
    {
      "cell_type": "markdown",
      "source": [
        "# task6"
      ],
      "metadata": {
        "id": "vpx0y3ITdtlO"
      }
    },
    {
      "cell_type": "code",
      "source": [
        "X = Gym_Members_Exercise_Dataset[dt_top_features]\n",
        "y = Gym_Members_Exercise_Dataset['BMI']\n",
        "\n",
        "X_train, X_test, y_train, y_test = train_test_split(X, y, test_size=0.2, random_state=42)\n",
        "\n",
        "final_tree_model = DecisionTreeRegressor(**best_dt_params, random_state=42)\n",
        "final_tree_model.fit(X_train, y_train)\n",
        "\n",
        "\n",
        "y_pred_tree = final_tree_model.predict(X_test)\n",
        "\n",
        "mae_tree = mean_absolute_error(y_test, y_pred_tree)\n",
        "rmse_tree = np.sqrt(mean_squared_error(y_test, y_pred_tree))\n",
        "r2_tree = r2_score(y_test, y_pred_tree)\n",
        "\n",
        "print(\"Final Decision Tree Regressor Model:\")\n",
        "print(\"Mean Absolute Error:\", mae_tree)\n",
        "print(\"Root Mean Squared Error:\", rmse_tree)\n",
        "print(\"R-squared:\", r2_tree)"
      ],
      "metadata": {
        "id": "tulrpkk5ciXJ",
        "colab": {
          "base_uri": "https://localhost:8080/"
        },
        "outputId": "8b61da13-9af1-45e8-ebdc-71b4b3a0f83f"
      },
      "execution_count": 89,
      "outputs": [
        {
          "output_type": "stream",
          "name": "stdout",
          "text": [
            "Final Decision Tree Regressor Model:\n",
            "Mean Absolute Error: 0.6797777777777775\n",
            "Root Mean Squared Error: 0.9619916128781285\n",
            "R-squared: 0.9810096584091355\n"
          ]
        }
      ]
    },
    {
      "cell_type": "markdown",
      "source": [
        "the model had no significant changes because the model already relies almost entirely on weight and height(99% of feature importance).\n"
      ],
      "metadata": {
        "id": "Scvy7zu4dz0o"
      }
    },
    {
      "cell_type": "markdown",
      "source": [
        "Model Performance:\n",
        "The models did a great job predicting BMI. The Decision Tree Regressor had an R-squared of 0.981, meaning it was very accurate. The Random Forest Regressor performed even better with an R-squared of 0.990, showing a higher accuracy. The final Decision Tree model, after adjusting its settings, also showed good results with similar accuracy.\n",
        "\n",
        "Impact of Methods:\n",
        "Using techniques like feature selection and tuning the model helped improve the results. By focusing on important features like Age, Height, and Weight, the models made better predictions. Random Forest worked a bit better than the Decision Tree because it uses multiple trees to make predictions, making it less likely to overfit.\n",
        "\n",
        "Insights and Future Directions:\n",
        "From this experiment, I learned that choosing the right features is really important for model performance, especially when predicting BMI. In the future, trying different models could improve the accuracy more"
      ],
      "metadata": {
        "id": "qX7bXqKxvx62"
      }
    }
  ]
}